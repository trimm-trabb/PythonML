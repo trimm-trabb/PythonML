{
  "nbformat": 4,
  "nbformat_minor": 0,
  "metadata": {
    "colab": {
      "provenance": []
    },
    "kernelspec": {
      "name": "python3",
      "display_name": "Python 3"
    },
    "language_info": {
      "name": "python"
    }
  },
  "cells": [
    {
      "cell_type": "markdown",
      "source": [
        "### Завдання 1: Створення матриць та векторів\n",
        "1. Створіть `numpy` вектор `vector` розмірністю 10 з випадковими дійсними значеннями в діапазоні від 0 до 1. Можна скористатись двома альтернативними варіантами:\n",
        "  1. Генерація випадкових чисел з модулем [`random.uniform`](https://docs.python.org/3/library/random.html).\n",
        "  2. Створення вектора з допомогою метода `numpy` [np.random.rand](https://numpy.org/doc/stable/reference/random/generated/numpy.random.rand.html)\n",
        "\n",
        "2. Створіть матрицю `matrix` типу `numpy.array` розмірності 3x3 з наступними значеннями\n",
        "\n",
        "  $$\n",
        "  matrix = \\begin{bmatrix}\n",
        "  11 & 14 & 17 \\\\\n",
        "  23 & 26 & 26 \\\\\n",
        "  29 & 32 & 35\n",
        "  \\end{bmatrix}\n",
        "  $$\n",
        "\n",
        "  будь-яким відомими Вам способом.\n",
        "\n",
        "Виведіть на екран вектор і матрицю, а також їх розміри.\n"
      ],
      "metadata": {
        "id": "efug1V4CM0lT"
      }
    },
    {
      "cell_type": "code",
      "source": [
        "import numpy as np\n",
        "\n",
        "# create a vector\n",
        "vector = np.random.rand(10)\n",
        "\n",
        "# create a matrix\n",
        "matrix = np.array(\n",
        "    [[11, 14, 17],\n",
        "     [23, 26, 26],\n",
        "     [29, 32, 35]])\n",
        "\n",
        "display(vector, vector.shape, matrix, matrix.shape)"
      ],
      "metadata": {
        "id": "jxA_lG2_VIMe",
        "colab": {
          "base_uri": "https://localhost:8080/",
          "height": 139
        },
        "outputId": "b5c09156-cd29-418d-ecd0-136e647971b1"
      },
      "execution_count": 47,
      "outputs": [
        {
          "output_type": "display_data",
          "data": {
            "text/plain": [
              "array([0.92291489, 0.91670404, 0.91863772, 0.25026224, 0.3803684 ,\n",
              "       0.18664402, 0.20974551, 0.65804184, 0.80463414, 0.6359579 ])"
            ]
          },
          "metadata": {}
        },
        {
          "output_type": "display_data",
          "data": {
            "text/plain": [
              "(10,)"
            ]
          },
          "metadata": {}
        },
        {
          "output_type": "display_data",
          "data": {
            "text/plain": [
              "array([[11, 14, 17],\n",
              "       [23, 26, 26],\n",
              "       [29, 32, 35]])"
            ]
          },
          "metadata": {}
        },
        {
          "output_type": "display_data",
          "data": {
            "text/plain": [
              "(3, 3)"
            ]
          },
          "metadata": {}
        }
      ]
    },
    {
      "cell_type": "markdown",
      "source": [
        "\n",
        "### Завдання 2: Операції над векторами та матрицями\n",
        "Виконайте кожну з зазначених операцій над зазначеними оʼєктами і виведіть результат на екран:\n",
        "1. Додайте до кожного значення вектора `vector` число 10 і округліть кожне значення до 2 знаків після коми без використання циклів.\n",
        "2. Помножте кожен елемент матриці з першого завдання на 2 без використання циклів.\n",
        "3. Створіть новий вектор, який містить квадрат кожного `vector` без циклів.\n"
      ],
      "metadata": {
        "id": "TSJ1P4OuOVe2"
      }
    },
    {
      "cell_type": "code",
      "source": [
        "# add a constant to each vector element\n",
        "vector_add_10 = (vector + 10).round(2)\n",
        "\n",
        "# multiply each vector element by a constant\n",
        "vector_mul_2 = vector * 2\n",
        "\n",
        "# find the square of each vector element\n",
        "vector_sq = vector**2\n",
        "\n",
        "display (vector_add_10, vector_mul_2, vector_sq)"
      ],
      "metadata": {
        "id": "nAAojtyUVJXN",
        "colab": {
          "base_uri": "https://localhost:8080/",
          "height": 121
        },
        "outputId": "78227d2f-d67c-4d10-e2d1-26101e5ea133"
      },
      "execution_count": 32,
      "outputs": [
        {
          "output_type": "display_data",
          "data": {
            "text/plain": [
              "array([10.62, 10.49, 10.46, 10.92, 10.65, 10.05, 10.38, 10.34, 10.29,\n",
              "       10.45])"
            ]
          },
          "metadata": {}
        },
        {
          "output_type": "display_data",
          "data": {
            "text/plain": [
              "array([1.23182908, 0.985436  , 0.92805985, 1.8377945 , 1.29808835,\n",
              "       0.10172667, 0.76674939, 0.68064434, 0.58040694, 0.90479555])"
            ]
          },
          "metadata": {}
        },
        {
          "output_type": "display_data",
          "data": {
            "text/plain": [
              "array([0.37935072, 0.24277103, 0.21532377, 0.84437215, 0.42125834,\n",
              "       0.00258708, 0.14697616, 0.11581918, 0.08421805, 0.20466375])"
            ]
          },
          "metadata": {}
        }
      ]
    },
    {
      "cell_type": "markdown",
      "source": [
        "\n",
        "### Завдання 3: Множення матриць\n",
        "1. Задані дві матриці `A` і `B`розмірностями 3x2 та 2х3. Виконайте їхнє множення, щоб отримати матрицю 2x2. Виведіть результуючу матрицю `result_matrix` на екран.\n",
        "\n",
        "2. Заданий вектор `C` розмірністю 1х2. Подумайте спочатку, яку розмірність Ви отрмаєте, коли домножите `result_matrix` на вектор `C` і який результат буде. А потім виконайте множення і виведіть результат на екран.\n",
        "\n",
        "3. Задана матриця `D` розмірністю 2х2. Подумайте спочатку, яку розмірність Ви отрмаєте, коли домножите `result_matrix` на матрицю `D` і який результат буде. А потім виконайте множення і виведіть результат на екран."
      ],
      "metadata": {
        "id": "u6RvWVfhPy-k"
      }
    },
    {
      "cell_type": "code",
      "source": [
        "A = np.array(\n",
        "    [[0.18, 0.53],\n",
        "     [0.75, 0.47],\n",
        "     [0.35, 0.21]])\n",
        "\n",
        "B = np.array(\n",
        "    [[0.17, 0.58, 0.75],\n",
        "     [0.38, 0.11, 0.15]])\n",
        "\n",
        "C = np.array([[0], [1]])\n",
        "\n",
        "D = np.array([[0,1], [1,0]])\n",
        "\n",
        "display(A, B, C, D)"
      ],
      "metadata": {
        "id": "RwXfPzlbSJ44",
        "colab": {
          "base_uri": "https://localhost:8080/",
          "height": 173
        },
        "outputId": "67db2c5b-ffde-43e5-c944-ef77595a3072"
      },
      "execution_count": 9,
      "outputs": [
        {
          "output_type": "display_data",
          "data": {
            "text/plain": [
              "array([[0.18, 0.53],\n",
              "       [0.75, 0.47],\n",
              "       [0.35, 0.21]])"
            ]
          },
          "metadata": {}
        },
        {
          "output_type": "display_data",
          "data": {
            "text/plain": [
              "array([[0.17, 0.58, 0.75],\n",
              "       [0.38, 0.11, 0.15]])"
            ]
          },
          "metadata": {}
        },
        {
          "output_type": "display_data",
          "data": {
            "text/plain": [
              "array([[0],\n",
              "       [1]])"
            ]
          },
          "metadata": {}
        },
        {
          "output_type": "display_data",
          "data": {
            "text/plain": [
              "array([[0, 1],\n",
              "       [1, 0]])"
            ]
          },
          "metadata": {}
        }
      ]
    },
    {
      "cell_type": "code",
      "source": [
        "#multiply matrices B and A\n",
        "\n",
        "result_matrix = B @ A\n",
        "result_matrix"
      ],
      "metadata": {
        "id": "z7-boTbhVKkj",
        "colab": {
          "base_uri": "https://localhost:8080/"
        },
        "outputId": "75672b6e-1b67-4f3c-b67a-cd56701702d7"
      },
      "execution_count": 42,
      "outputs": [
        {
          "output_type": "execute_result",
          "data": {
            "text/plain": [
              "array([[0.7281, 0.5202],\n",
              "       [0.2034, 0.2846]])"
            ]
          },
          "metadata": {},
          "execution_count": 42
        }
      ]
    },
    {
      "cell_type": "markdown",
      "source": [
        "Результатом множення матриці розміром  𝑚×𝑛  на матрицю розміром  𝑛×𝑝  буде нова матриця розміром  𝑚×𝑝, отже множачи result_matrix розміром  2×2 на матрицю С розміром 2×1 отримаємо матрицю 2×1."
      ],
      "metadata": {
        "id": "Mi-CPl_uqRSU"
      }
    },
    {
      "cell_type": "code",
      "source": [
        "#multiply matrices result_matrix and C\n",
        "\n",
        "result_matrix @ C"
      ],
      "metadata": {
        "colab": {
          "base_uri": "https://localhost:8080/"
        },
        "id": "JFf7AVIDU8xj",
        "outputId": "93d29678-704b-415d-8ada-ced113c457c2"
      },
      "execution_count": 36,
      "outputs": [
        {
          "output_type": "execute_result",
          "data": {
            "text/plain": [
              "array([[0.5202],\n",
              "       [0.2846]])"
            ]
          },
          "metadata": {},
          "execution_count": 36
        }
      ]
    },
    {
      "cell_type": "markdown",
      "source": [
        "Множачи result_matrix розміром  2×2 на матрицю D розміром 2×2 отримаємо матрицю 2×2."
      ],
      "metadata": {
        "id": "J6SV9gdksX6g"
      }
    },
    {
      "cell_type": "code",
      "source": [
        "#multiply matrices result_matrix and D\n",
        "\n",
        "result_matrix @ D"
      ],
      "metadata": {
        "colab": {
          "base_uri": "https://localhost:8080/"
        },
        "id": "JYhCi_LLVD3g",
        "outputId": "5749f844-6d4e-4147-b7c8-86f72d874ab1"
      },
      "execution_count": 43,
      "outputs": [
        {
          "output_type": "execute_result",
          "data": {
            "text/plain": [
              "array([[0.5202, 0.7281],\n",
              "       [0.2846, 0.2034]])"
            ]
          },
          "metadata": {},
          "execution_count": 43
        }
      ]
    },
    {
      "cell_type": "markdown",
      "source": [
        "\n",
        "### Завдання 4: Транспонування матриць\n",
        "1. Транспонуйте `result_matrix`.\n",
        "2. Зробіть транспонування вектора `vector` і виведіть форму нової структури. Чи бачите ви зміну?\n",
        "3. Використайте операцію `numpy.expand_dims` над вектором `vector` з аргументом axis=1. Запишіть отриманий результат в змінну `column_vector` і виведіть на екран. Порівняйте з `vector`.\n",
        "4. Зробіть транспонування `column_vector`, виведіть результат на екран разом з розмірностями отриманої структури.\n",
        "\n",
        "\n"
      ],
      "metadata": {
        "id": "wohp0_cxSGpl"
      }
    },
    {
      "cell_type": "code",
      "source": [
        "# transpose a matrix\n",
        "\n",
        "result_matrix.T"
      ],
      "metadata": {
        "id": "4hFcq1baVLii",
        "colab": {
          "base_uri": "https://localhost:8080/"
        },
        "outputId": "9187bc49-e41c-4c33-91ad-745017862996"
      },
      "execution_count": 19,
      "outputs": [
        {
          "output_type": "execute_result",
          "data": {
            "text/plain": [
              "array([[0.7281, 0.2034],\n",
              "       [0.5202, 0.2846]])"
            ]
          },
          "metadata": {},
          "execution_count": 19
        }
      ]
    },
    {
      "cell_type": "code",
      "source": [
        "# transpose a vector\n",
        "\n",
        "vector_t = vector.T\n",
        "\n",
        "display(vector_t, vector_t.shape)"
      ],
      "metadata": {
        "colab": {
          "base_uri": "https://localhost:8080/",
          "height": 69
        },
        "id": "dCBw0-cuVXYl",
        "outputId": "c43166ba-6691-4a53-dfde-fb7745904f7a"
      },
      "execution_count": 44,
      "outputs": [
        {
          "output_type": "display_data",
          "data": {
            "text/plain": [
              "array([0.61591454, 0.492718  , 0.46402992, 0.91889725, 0.64904417,\n",
              "       0.05086333, 0.38337469, 0.34032217, 0.29020347, 0.45239777])"
            ]
          },
          "metadata": {}
        },
        {
          "output_type": "display_data",
          "data": {
            "text/plain": [
              "(10,)"
            ]
          },
          "metadata": {}
        }
      ]
    },
    {
      "cell_type": "markdown",
      "source": [
        "Спостереження: одновимірний вектор не змінив своєї структури після транспонування."
      ],
      "metadata": {
        "id": "1ef1er2Yt3W2"
      }
    },
    {
      "cell_type": "code",
      "source": [
        "# expand dimensions of a vector\n",
        "\n",
        "column_vector = np.expand_dims(vector, axis=1)\n",
        "\n",
        "display(column_vector, column_vector.shape)"
      ],
      "metadata": {
        "colab": {
          "base_uri": "https://localhost:8080/",
          "height": 208
        },
        "id": "qziWNycdVnNM",
        "outputId": "607b6553-46b3-43d9-a80c-763ba98dd465"
      },
      "execution_count": 45,
      "outputs": [
        {
          "output_type": "display_data",
          "data": {
            "text/plain": [
              "array([[0.61591454],\n",
              "       [0.492718  ],\n",
              "       [0.46402992],\n",
              "       [0.91889725],\n",
              "       [0.64904417],\n",
              "       [0.05086333],\n",
              "       [0.38337469],\n",
              "       [0.34032217],\n",
              "       [0.29020347],\n",
              "       [0.45239777]])"
            ]
          },
          "metadata": {}
        },
        {
          "output_type": "display_data",
          "data": {
            "text/plain": [
              "(10, 1)"
            ]
          },
          "metadata": {}
        }
      ]
    },
    {
      "cell_type": "markdown",
      "source": [
        "Спостереження: column_vector є двовимірним."
      ],
      "metadata": {
        "id": "R5oa5fNDuJVC"
      }
    },
    {
      "cell_type": "code",
      "source": [
        "#transpose a column vector\n",
        "\n",
        "column_vector_t = column_vector.T\n",
        "\n",
        "column_vector_t, column_vector_t.shape"
      ],
      "metadata": {
        "colab": {
          "base_uri": "https://localhost:8080/"
        },
        "id": "BcYDQ055V0uJ",
        "outputId": "7bf004c3-c8eb-4565-e2b5-5d323ee86ad6"
      },
      "execution_count": 46,
      "outputs": [
        {
          "output_type": "execute_result",
          "data": {
            "text/plain": [
              "(array([[0.61591454, 0.492718  , 0.46402992, 0.91889725, 0.64904417,\n",
              "         0.05086333, 0.38337469, 0.34032217, 0.29020347, 0.45239777]]),\n",
              " (1, 10))"
            ]
          },
          "metadata": {},
          "execution_count": 46
        }
      ]
    }
  ]
}