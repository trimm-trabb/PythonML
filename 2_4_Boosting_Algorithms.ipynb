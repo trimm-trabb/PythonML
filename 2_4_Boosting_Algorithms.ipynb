{
  "nbformat": 4,
  "nbformat_minor": 0,
  "metadata": {
    "colab": {
      "provenance": []
    },
    "kernelspec": {
      "name": "python3",
      "display_name": "Python 3"
    },
    "language_info": {
      "name": "python"
    }
  },
  "cells": [
    {
      "cell_type": "markdown",
      "source": [
        "В цьому домашньому завданні ми знову працюємо з даними з нашого змагання [\"Bank Customer Churn Prediction (DLU Course)\"](https://www.kaggle.com/t/7c080c5d8ec64364a93cf4e8f880b6a0).\n",
        "\n",
        "Тут ми побудуємо рішення задачі класифікації з використанням алгоритмів бустингу: XGBoost та LightGBM, а також використаємо бібліотеку HyperOpt для оптимізації гіперпараметрів."
      ],
      "metadata": {
        "id": "fDefDHQt8LXC"
      }
    },
    {
      "cell_type": "markdown",
      "source": [
        "0. Зчитайте дані `train.csv` в змінну `raw_df` та скористайтесь наведеним кодом нижче аби розділити дані на трнувальні та валідаційні і розділити дані на ознаки з матириці Х та цільову змінну. Назви змінних `train_inputs, train_targets, train_inputs, train_targets` можна змінити на ті, які Вам зручно.\n",
        "\n",
        "  Наведений скрипт - частина отриманого мною скрипта для обробки даних. Ми тут не викнуємо масштабування та обробку категоріальних змінних, бо хочемо це делегувати алгоритмам, які будемо використовувати. Якщо щось не розумієте в наведених скриптах, рекомендую розібратись: навичка читати код - важлива складова роботи в машинному навчанні."
      ],
      "metadata": {
        "id": "LhivzW9W8-Dz"
      }
    },
    {
      "cell_type": "code",
      "source": [
        "!pip install opendatasets --upgrade --quiet"
      ],
      "metadata": {
        "id": "-bHdMJVB4xQR"
      },
      "execution_count": 1,
      "outputs": []
    },
    {
      "cell_type": "code",
      "source": [
        "import pandas as pd\n",
        "import numpy as np\n",
        "import opendatasets as od\n",
        "import os\n",
        "from sklearn.model_selection import train_test_split\n",
        "from typing import Tuple, Dict, Any\n",
        "from sklearn.metrics import roc_auc_score\n",
        "from xgboost import XGBClassifier\n",
        "from hyperopt import fmin, tpe, hp, STATUS_OK, Trials\n",
        "from lightgbm import LGBMClassifier"
      ],
      "metadata": {
        "id": "xZ1qtisRWAoK"
      },
      "execution_count": 3,
      "outputs": []
    },
    {
      "cell_type": "code",
      "source": [
        "def split_train_val(df: pd.DataFrame, target_col: str, test_size: float = 0.2, random_state: int = 42) -> Tuple[pd.DataFrame, pd.DataFrame]:\n",
        "    \"\"\"\n",
        "    Split the dataframe into training and validation sets.\n",
        "\n",
        "    Args:\n",
        "        df (pd.DataFrame): The raw dataframe.\n",
        "        target_col (str): The target column for stratification.\n",
        "        test_size (float): The proportion of the dataset to include in the validation split.\n",
        "        random_state (int): Random state for reproducibility.\n",
        "\n",
        "    Returns:\n",
        "        Tuple[pd.DataFrame, pd.DataFrame]: Training and validation dataframes.\n",
        "    \"\"\"\n",
        "    train_df, val_df = train_test_split(df, test_size=test_size, random_state=random_state, stratify=df[target_col])\n",
        "    return train_df, val_df\n",
        "\n",
        "\n",
        "def separate_inputs_targets(df: pd.DataFrame, input_cols: list, target_col: str) -> Tuple[pd.DataFrame, pd.Series]:\n",
        "    \"\"\"\n",
        "    Separate inputs and targets from the dataframe.\n",
        "\n",
        "    Args:\n",
        "        df (pd.DataFrame): The dataframe.\n",
        "        input_cols (list): List of input columns.\n",
        "        target_col (str): Target column.\n",
        "\n",
        "    Returns:\n",
        "        Tuple[pd.DataFrame, pd.Series]: DataFrame of inputs and Series of targets.\n",
        "    \"\"\"\n",
        "    inputs = df[input_cols].copy()\n",
        "    targets = df[target_col].copy()\n",
        "    return inputs, targets\n",
        "\n",
        "\n",
        "def compute_auroc(model, inputs, targets):\n",
        "  y_pred = model.predict_proba(inputs)[:, 1]\n",
        "\n",
        "  return roc_auc_score(targets, y_pred)"
      ],
      "metadata": {
        "id": "cKE8RTPf6CRD"
      },
      "execution_count": 4,
      "outputs": []
    },
    {
      "cell_type": "code",
      "source": [
        "dataset_url = 'https://www.kaggle.com/competitions/bank-customer-churn-prediction-dlu/data?select=train.csv'\n",
        "od.download(dataset_url)"
      ],
      "metadata": {
        "colab": {
          "base_uri": "https://localhost:8080/"
        },
        "id": "PV4UsjVAOf4x",
        "outputId": "68935025-e015-489f-f4be-482f3ff59083"
      },
      "execution_count": 5,
      "outputs": [
        {
          "output_type": "stream",
          "name": "stdout",
          "text": [
            "Please provide your Kaggle credentials to download this dataset. Learn more: http://bit.ly/kaggle-creds\n",
            "Your Kaggle username: anastasiiakhartynova\n",
            "Your Kaggle Key: ··········\n",
            "Downloading bank-customer-churn-prediction-dlu.zip to ./bank-customer-churn-prediction-dlu\n"
          ]
        },
        {
          "output_type": "stream",
          "name": "stderr",
          "text": [
            "100%|██████████| 637k/637k [00:00<00:00, 74.8MB/s]"
          ]
        },
        {
          "output_type": "stream",
          "name": "stdout",
          "text": [
            "\n",
            "Extracting archive ./bank-customer-churn-prediction-dlu/bank-customer-churn-prediction-dlu.zip to ./bank-customer-churn-prediction-dlu\n"
          ]
        },
        {
          "output_type": "stream",
          "name": "stderr",
          "text": [
            "\n"
          ]
        }
      ]
    },
    {
      "cell_type": "code",
      "source": [
        "data_dir = './bank-customer-churn-prediction-dlu'\n",
        "train_csv = data_dir + '/train.csv'\n",
        "test_csv =  data_dir + '/test.csv'\n",
        "sample_submission_csv =  data_dir + '/sample_submission.csv'"
      ],
      "metadata": {
        "id": "DnqGQn1zOoxb"
      },
      "execution_count": 17,
      "outputs": []
    },
    {
      "cell_type": "code",
      "source": [
        "raw_df = pd.read_csv(train_csv)\n",
        "\n",
        "target_col = 'Exited'\n",
        "input_cols = list(raw_df.columns)\n",
        "cols_to_drop = ['Exited', 'id', 'CustomerId', 'Surname']\n",
        "input_cols = list(filter(lambda x: x not in cols_to_drop, input_cols))\n",
        "\n",
        "train_df, val_df = split_train_val(raw_df, target_col)\n",
        "train_X, train_y = separate_inputs_targets(train_df, input_cols, target_col)\n",
        "val_X, val_y = separate_inputs_targets(val_df, input_cols, target_col)"
      ],
      "metadata": {
        "id": "NMPbOyOUOuJq"
      },
      "execution_count": 18,
      "outputs": []
    },
    {
      "cell_type": "markdown",
      "source": [
        "1. В тренувальному та валідаційному наборі перетворіть категоріальні ознаки на тип `category`. Можна це зробити двома способами:\n",
        " 1. `df[col_name].astype('category')`, як було продемонстровано в лекції\n",
        " 2. використовуючи метод `pd.Categorical(df[col_name])`"
      ],
      "metadata": {
        "id": "cq0JU7MqHgp_"
      }
    },
    {
      "cell_type": "code",
      "source": [
        "categorical_cols = train_X.select_dtypes(include=['object']).columns.tolist()\n",
        "\n",
        "train_X[categorical_cols] = train_X[categorical_cols].astype('category')\n",
        "val_X[categorical_cols] = val_X[categorical_cols].astype('category')"
      ],
      "metadata": {
        "id": "UPmqo-Mr4yUO"
      },
      "execution_count": 19,
      "outputs": []
    },
    {
      "cell_type": "code",
      "source": [
        "train_X.info(), val_X.info()"
      ],
      "metadata": {
        "colab": {
          "base_uri": "https://localhost:8080/"
        },
        "id": "F0hgx_q4RTA9",
        "outputId": "b7f2951f-4ee5-4671-c15a-98405b7cedd0"
      },
      "execution_count": 20,
      "outputs": [
        {
          "output_type": "stream",
          "name": "stdout",
          "text": [
            "<class 'pandas.core.frame.DataFrame'>\n",
            "Index: 12000 entries, 7180 to 9360\n",
            "Data columns (total 10 columns):\n",
            " #   Column           Non-Null Count  Dtype   \n",
            "---  ------           --------------  -----   \n",
            " 0   CreditScore      12000 non-null  float64 \n",
            " 1   Geography        12000 non-null  category\n",
            " 2   Gender           12000 non-null  category\n",
            " 3   Age              12000 non-null  float64 \n",
            " 4   Tenure           12000 non-null  float64 \n",
            " 5   Balance          12000 non-null  float64 \n",
            " 6   NumOfProducts    12000 non-null  float64 \n",
            " 7   HasCrCard        12000 non-null  float64 \n",
            " 8   IsActiveMember   12000 non-null  float64 \n",
            " 9   EstimatedSalary  12000 non-null  float64 \n",
            "dtypes: category(2), float64(8)\n",
            "memory usage: 867.4 KB\n",
            "<class 'pandas.core.frame.DataFrame'>\n",
            "Index: 3000 entries, 6490 to 3024\n",
            "Data columns (total 10 columns):\n",
            " #   Column           Non-Null Count  Dtype   \n",
            "---  ------           --------------  -----   \n",
            " 0   CreditScore      3000 non-null   float64 \n",
            " 1   Geography        3000 non-null   category\n",
            " 2   Gender           3000 non-null   category\n",
            " 3   Age              3000 non-null   float64 \n",
            " 4   Tenure           3000 non-null   float64 \n",
            " 5   Balance          3000 non-null   float64 \n",
            " 6   NumOfProducts    3000 non-null   float64 \n",
            " 7   HasCrCard        3000 non-null   float64 \n",
            " 8   IsActiveMember   3000 non-null   float64 \n",
            " 9   EstimatedSalary  3000 non-null   float64 \n",
            "dtypes: category(2), float64(8)\n",
            "memory usage: 217.0 KB\n"
          ]
        },
        {
          "output_type": "execute_result",
          "data": {
            "text/plain": [
              "(None, None)"
            ]
          },
          "metadata": {},
          "execution_count": 20
        }
      ]
    },
    {
      "cell_type": "markdown",
      "source": [
        "2. Навчіть на отриманих даних модель `XGBoostClassifier`. Параметри алгоритму встановіть на свій розсуд, ми далі будемо їх тюнити. Рекомендую тренувати не дуже складну модель.\n",
        "\n",
        "  Опис всіх конфігураційних параметрів XGBoostClassifier - тут https://xgboost.readthedocs.io/en/stable/parameter.html#global-config\n",
        "\n",
        "  **Важливо:** зробіть такі налаштування `XGBoostClassifier` аби він самостійно обробляв незаповнені значення в даних і обробляв категоріальні колонки.\n",
        "\n",
        "  Можна також, якщо працюєте в Google Colab, увімкнути можливість використання GPU (`Runtime -> Change runtime type -> T4 GPU`) і встановити параметр `device='cuda'` в `XGBoostClassifier` для пришвидшення тренування бустинг моделі.\n",
        "  \n",
        "  Після тренування моделі\n",
        "  1. Виміряйте точність з допомогою AUROC на тренувальному та валідаційному наборах.\n",
        "  2. Зробіть висновок про отриману модель: вона хороша/погана, чи є high bias/high variance?\n",
        "  3. Порівняйте якість цієї моделі з тою, що ви отрмали з використанням DecisionTrees раніше. Чи вийшло покращити якість?"
      ],
      "metadata": {
        "id": "_LxWkv4o-wMe"
      }
    },
    {
      "cell_type": "code",
      "source": [
        "xgb = XGBClassifier(\n",
        "    max_depth=3,\n",
        "    n_estimators=10,\n",
        "    enable_categorical=True,\n",
        "    use_label_encoder=False,\n",
        "    device='cuda',\n",
        "    random_state=42\n",
        ")\n",
        "\n",
        "xgb.fit(train_X, train_y)"
      ],
      "metadata": {
        "id": "_5rDqdDP41hb",
        "colab": {
          "base_uri": "https://localhost:8080/",
          "height": 247
        },
        "outputId": "55006ee9-0ddc-4164-fae5-7e7f4f900a0c"
      },
      "execution_count": 12,
      "outputs": [
        {
          "output_type": "execute_result",
          "data": {
            "text/plain": [
              "XGBClassifier(base_score=None, booster=None, callbacks=None,\n",
              "              colsample_bylevel=None, colsample_bynode=None,\n",
              "              colsample_bytree=None, device='cuda', early_stopping_rounds=None,\n",
              "              enable_categorical=True, eval_metric=None, feature_types=None,\n",
              "              gamma=None, grow_policy=None, importance_type=None,\n",
              "              interaction_constraints=None, learning_rate=None, max_bin=None,\n",
              "              max_cat_threshold=None, max_cat_to_onehot=None,\n",
              "              max_delta_step=None, max_depth=3, max_leaves=None,\n",
              "              min_child_weight=None, missing=nan, monotone_constraints=None,\n",
              "              multi_strategy=None, n_estimators=10, n_jobs=None,\n",
              "              num_parallel_tree=None, random_state=42, ...)"
            ],
            "text/html": [
              "<style>#sk-container-id-1 {color: black;background-color: white;}#sk-container-id-1 pre{padding: 0;}#sk-container-id-1 div.sk-toggleable {background-color: white;}#sk-container-id-1 label.sk-toggleable__label {cursor: pointer;display: block;width: 100%;margin-bottom: 0;padding: 0.3em;box-sizing: border-box;text-align: center;}#sk-container-id-1 label.sk-toggleable__label-arrow:before {content: \"▸\";float: left;margin-right: 0.25em;color: #696969;}#sk-container-id-1 label.sk-toggleable__label-arrow:hover:before {color: black;}#sk-container-id-1 div.sk-estimator:hover label.sk-toggleable__label-arrow:before {color: black;}#sk-container-id-1 div.sk-toggleable__content {max-height: 0;max-width: 0;overflow: hidden;text-align: left;background-color: #f0f8ff;}#sk-container-id-1 div.sk-toggleable__content pre {margin: 0.2em;color: black;border-radius: 0.25em;background-color: #f0f8ff;}#sk-container-id-1 input.sk-toggleable__control:checked~div.sk-toggleable__content {max-height: 200px;max-width: 100%;overflow: auto;}#sk-container-id-1 input.sk-toggleable__control:checked~label.sk-toggleable__label-arrow:before {content: \"▾\";}#sk-container-id-1 div.sk-estimator input.sk-toggleable__control:checked~label.sk-toggleable__label {background-color: #d4ebff;}#sk-container-id-1 div.sk-label input.sk-toggleable__control:checked~label.sk-toggleable__label {background-color: #d4ebff;}#sk-container-id-1 input.sk-hidden--visually {border: 0;clip: rect(1px 1px 1px 1px);clip: rect(1px, 1px, 1px, 1px);height: 1px;margin: -1px;overflow: hidden;padding: 0;position: absolute;width: 1px;}#sk-container-id-1 div.sk-estimator {font-family: monospace;background-color: #f0f8ff;border: 1px dotted black;border-radius: 0.25em;box-sizing: border-box;margin-bottom: 0.5em;}#sk-container-id-1 div.sk-estimator:hover {background-color: #d4ebff;}#sk-container-id-1 div.sk-parallel-item::after {content: \"\";width: 100%;border-bottom: 1px solid gray;flex-grow: 1;}#sk-container-id-1 div.sk-label:hover label.sk-toggleable__label {background-color: #d4ebff;}#sk-container-id-1 div.sk-serial::before {content: \"\";position: absolute;border-left: 1px solid gray;box-sizing: border-box;top: 0;bottom: 0;left: 50%;z-index: 0;}#sk-container-id-1 div.sk-serial {display: flex;flex-direction: column;align-items: center;background-color: white;padding-right: 0.2em;padding-left: 0.2em;position: relative;}#sk-container-id-1 div.sk-item {position: relative;z-index: 1;}#sk-container-id-1 div.sk-parallel {display: flex;align-items: stretch;justify-content: center;background-color: white;position: relative;}#sk-container-id-1 div.sk-item::before, #sk-container-id-1 div.sk-parallel-item::before {content: \"\";position: absolute;border-left: 1px solid gray;box-sizing: border-box;top: 0;bottom: 0;left: 50%;z-index: -1;}#sk-container-id-1 div.sk-parallel-item {display: flex;flex-direction: column;z-index: 1;position: relative;background-color: white;}#sk-container-id-1 div.sk-parallel-item:first-child::after {align-self: flex-end;width: 50%;}#sk-container-id-1 div.sk-parallel-item:last-child::after {align-self: flex-start;width: 50%;}#sk-container-id-1 div.sk-parallel-item:only-child::after {width: 0;}#sk-container-id-1 div.sk-dashed-wrapped {border: 1px dashed gray;margin: 0 0.4em 0.5em 0.4em;box-sizing: border-box;padding-bottom: 0.4em;background-color: white;}#sk-container-id-1 div.sk-label label {font-family: monospace;font-weight: bold;display: inline-block;line-height: 1.2em;}#sk-container-id-1 div.sk-label-container {text-align: center;}#sk-container-id-1 div.sk-container {/* jupyter's `normalize.less` sets `[hidden] { display: none; }` but bootstrap.min.css set `[hidden] { display: none !important; }` so we also need the `!important` here to be able to override the default hidden behavior on the sphinx rendered scikit-learn.org. See: https://github.com/scikit-learn/scikit-learn/issues/21755 */display: inline-block !important;position: relative;}#sk-container-id-1 div.sk-text-repr-fallback {display: none;}</style><div id=\"sk-container-id-1\" class=\"sk-top-container\"><div class=\"sk-text-repr-fallback\"><pre>XGBClassifier(base_score=None, booster=None, callbacks=None,\n",
              "              colsample_bylevel=None, colsample_bynode=None,\n",
              "              colsample_bytree=None, device=&#x27;cuda&#x27;, early_stopping_rounds=None,\n",
              "              enable_categorical=True, eval_metric=None, feature_types=None,\n",
              "              gamma=None, grow_policy=None, importance_type=None,\n",
              "              interaction_constraints=None, learning_rate=None, max_bin=None,\n",
              "              max_cat_threshold=None, max_cat_to_onehot=None,\n",
              "              max_delta_step=None, max_depth=3, max_leaves=None,\n",
              "              min_child_weight=None, missing=nan, monotone_constraints=None,\n",
              "              multi_strategy=None, n_estimators=10, n_jobs=None,\n",
              "              num_parallel_tree=None, random_state=42, ...)</pre><b>In a Jupyter environment, please rerun this cell to show the HTML representation or trust the notebook. <br />On GitHub, the HTML representation is unable to render, please try loading this page with nbviewer.org.</b></div><div class=\"sk-container\" hidden><div class=\"sk-item\"><div class=\"sk-estimator sk-toggleable\"><input class=\"sk-toggleable__control sk-hidden--visually\" id=\"sk-estimator-id-1\" type=\"checkbox\" checked><label for=\"sk-estimator-id-1\" class=\"sk-toggleable__label sk-toggleable__label-arrow\">XGBClassifier</label><div class=\"sk-toggleable__content\"><pre>XGBClassifier(base_score=None, booster=None, callbacks=None,\n",
              "              colsample_bylevel=None, colsample_bynode=None,\n",
              "              colsample_bytree=None, device=&#x27;cuda&#x27;, early_stopping_rounds=None,\n",
              "              enable_categorical=True, eval_metric=None, feature_types=None,\n",
              "              gamma=None, grow_policy=None, importance_type=None,\n",
              "              interaction_constraints=None, learning_rate=None, max_bin=None,\n",
              "              max_cat_threshold=None, max_cat_to_onehot=None,\n",
              "              max_delta_step=None, max_depth=3, max_leaves=None,\n",
              "              min_child_weight=None, missing=nan, monotone_constraints=None,\n",
              "              multi_strategy=None, n_estimators=10, n_jobs=None,\n",
              "              num_parallel_tree=None, random_state=42, ...)</pre></div></div></div></div></div>"
            ]
          },
          "metadata": {},
          "execution_count": 12
        }
      ]
    },
    {
      "cell_type": "code",
      "source": [
        "print('Train AUROC', compute_auroc(xgb, train_X, train_y))\n",
        "print('Validation AUROC', compute_auroc(xgb, val_X, val_y))"
      ],
      "metadata": {
        "colab": {
          "base_uri": "https://localhost:8080/"
        },
        "id": "h5CEwiTCoFtv",
        "outputId": "78429505-0921-4028-9eac-10df84af314f"
      },
      "execution_count": 13,
      "outputs": [
        {
          "output_type": "stream",
          "name": "stdout",
          "text": [
            "Train AUROC 0.934430985513848\n",
            "Validation AUROC 0.933416901022018\n"
          ]
        },
        {
          "output_type": "stream",
          "name": "stderr",
          "text": [
            "/usr/local/lib/python3.10/dist-packages/xgboost/core.py:160: UserWarning: [14:05:55] WARNING: /workspace/src/common/error_msg.cc:58: Falling back to prediction using DMatrix due to mismatched devices. This might lead to higher memory usage and slower performance. XGBoost is running on: cuda:0, while the input data is on: cpu.\n",
            "Potential solutions:\n",
            "- Use a data structure that matches the device ordinal in the booster.\n",
            "- Set the device for booster before call to inplace_predict.\n",
            "\n",
            "This warning will only be shown once.\n",
            "\n",
            "  warnings.warn(smsg, UserWarning)\n"
          ]
        }
      ]
    },
    {
      "cell_type": "markdown",
      "source": [
        "Модель має дуже хороші результати (з покращенням скору майже на 1 в порівнянні з моєю найкращою моделлю Decision Tree) + результати на тренувальних і валідаційних даних дуже близькі, що свідчить про те, що вона добре генералізує на нових, невідомих даних."
      ],
      "metadata": {
        "id": "mEl3QHXTYHVj"
      }
    },
    {
      "cell_type": "markdown",
      "source": [
        "3. Використовуючи бібліотеку `Hyperopt` і приклад пошуку гіперпараметрів для `XGBoostClassifier` з лекції знайдіть оптимальні значення гіперпараметрів `XGBoostClassifier` для нашої задачі. Задайте свою сітку гіперпараметрів виходячи з тих параметрів, які ви б хотіли перебрати. Поставте кількість раундів в підборі гіперпараметрів рівну **20**.\n",
        "\n",
        "  **Увага!** Для того, аби скористатись hyperopt, нам треба задати функцію `objective`. В ній ми маємо задати loss - це може будь-яка метрика, але бажано використовувтаи ту, яка цільова в вашій задачі. Чим менший лосс - тим ліпша модель на думку hyperopt. Тож, тут нам треба задати loss - негативне значення AUROC. В лекції ми натомість використовували Accuracy.\n",
        "\n",
        "  Після успішного завершення пошуку оптимальних гіперпараметрів\n",
        "    - виведіть найкращі значення гіперпараметрів\n",
        "    - створіть в окремій зміній `final_clf` модель `XGBoostClassifier` з найкращими гіперпараметрами\n",
        "    - навчіть модель `final_clf`\n",
        "    - оцініть якість моделі `final_clf` на тренувальній і валідаційній вибірках з допомогою AUROC.\n",
        "    - зробіть висновок про якість моделі. Чи стала вона краще порівняно з попереднім пунктом (2) цього завдання?"
      ],
      "metadata": {
        "id": "U4hm5qYs_f7x"
      }
    },
    {
      "cell_type": "code",
      "source": [
        "# Function that specifies objective\n",
        "def objective(model_class, param_space, params, **model_specific_params):\n",
        "    # Convert hyperopt params to the correct types if necessary\n",
        "    model_params = {key: int(value) if key in param_space['int_params'] else value for key, value in params.items()}\n",
        "\n",
        "    # Initialize the model\n",
        "    model = model_class(**model_params, **model_specific_params, random_state=42)\n",
        "\n",
        "    # Fit the model\n",
        "    try:\n",
        "        model.fit(train_X, train_y, eval_set=[(val_X, val_y)], verbose=False)\n",
        "    except TypeError:\n",
        "        model.fit(train_X, train_y, eval_set=[(val_X, val_y)])\n",
        "\n",
        "    # Compute the AUROC\n",
        "    auroc = compute_auroc(model, val_X, val_y)\n",
        "\n",
        "    return {'loss': -auroc, 'status': STATUS_OK}\n",
        "\n",
        "\n",
        "# Wrapper function for hyperopt for XGB\n",
        "def hyperopt_objective_XGB(params):\n",
        "    return objective(XGBClassifier, param_space, params, enable_categorical=True)\n",
        "\n",
        "\n",
        "# Function to find best hyperparameters\n",
        "def optimize_hyperopt_params(objective, space, int_params, max_evals):\n",
        "    best = fmin(fn=objective, space=space, algo=tpe.suggest, max_evals=max_evals, trials=Trials())\n",
        "    # Convert hyperparameter values to final types\n",
        "    for key in int_params:\n",
        "      best[key] = int(best[key])\n",
        "\n",
        "    print(\"Best hyperparameters: \", best)\n",
        "\n",
        "    return best"
      ],
      "metadata": {
        "id": "46iM7V6PGUQx"
      },
      "execution_count": 21,
      "outputs": []
    },
    {
      "cell_type": "code",
      "source": [
        "param_space = {\n",
        "    'params': {\n",
        "        'n_estimators': hp.quniform('n_estimators', 10, 500, 25),\n",
        "        'learning_rate': hp.uniform('learning_rate', 0.01, 0.3),\n",
        "        'max_depth': hp.quniform('max_depth', 1, 15, 1),\n",
        "        'min_child_weight': hp.quniform('min_child_weight', 1, 10, 1),\n",
        "        'subsample': hp.uniform('subsample', 0.5, 1.0),\n",
        "        'colsample_bytree': hp.uniform('colsample_bytree', 0.5, 1.0),\n",
        "        'gamma': hp.uniform('gamma', 0, 0.5),\n",
        "        'reg_alpha': hp.uniform('reg_alpha', 0, 1),\n",
        "        'reg_lambda': hp.uniform('reg_lambda', 0, 1)\n",
        "    },\n",
        "    'int_params': ['n_estimators', 'max_depth', 'min_child_weight']  # List of params that need to be converted to int\n",
        "}\n",
        "\n",
        "# Find best hyperparameters for XGB Classifier\n",
        "best = optimize_hyperopt_params(hyperopt_objective_XGB, param_space['params'], param_space['int_params'], max_evals=20)"
      ],
      "metadata": {
        "colab": {
          "base_uri": "https://localhost:8080/"
        },
        "id": "t3vcscywOLnM",
        "outputId": "98bf0666-bf98-4e8f-f4b9-c5aad16804e7"
      },
      "execution_count": 43,
      "outputs": [
        {
          "output_type": "stream",
          "name": "stdout",
          "text": [
            "100%|██████████| 20/20 [00:13<00:00,  1.47trial/s, best loss: -0.93732834899513]\n",
            "Best hyperparameters:  {'colsample_bytree': 0.8149774609861837, 'gamma': 0.4724294804749656, 'learning_rate': 0.06966595539293906, 'max_depth': 3, 'min_child_weight': 2, 'n_estimators': 125, 'reg_alpha': 0.38468827216350854, 'reg_lambda': 0.16685754630617977, 'subsample': 0.8892355013278412}\n"
          ]
        }
      ]
    },
    {
      "cell_type": "code",
      "source": [
        "# Final model with the best parameters\n",
        "final_clf = XGBClassifier(\n",
        "    n_estimators=best['n_estimators'],\n",
        "    learning_rate=best['learning_rate'],\n",
        "    max_depth=best['max_depth'],\n",
        "    min_child_weight=best['min_child_weight'],\n",
        "    subsample=best['subsample'],\n",
        "    colsample_bytree=best['colsample_bytree'],\n",
        "    gamma=best['gamma'],\n",
        "    reg_alpha=best['reg_alpha'],\n",
        "    reg_lambda=best['reg_lambda'],\n",
        "    enable_categorical=True,\n",
        "    use_label_encoder=False,\n",
        "    device='cuda',\n",
        "    random_state=42\n",
        ")\n",
        "\n",
        "final_clf.fit(train_X, train_y)\n",
        "\n",
        "print('Train AUROC', compute_auroc(final_clf, train_X, train_y))\n",
        "print('Validation AUROC', compute_auroc(final_clf, val_X, val_y))"
      ],
      "metadata": {
        "colab": {
          "base_uri": "https://localhost:8080/"
        },
        "id": "6PjJujdeqGqe",
        "outputId": "0f988f68-549f-48f9-8e98-1f5d019f7a4b"
      },
      "execution_count": 45,
      "outputs": [
        {
          "output_type": "stream",
          "name": "stdout",
          "text": [
            "Train AUROC 0.9423159891615636\n",
            "Validation AUROC 0.9377498456684272\n"
          ]
        }
      ]
    },
    {
      "cell_type": "markdown",
      "source": [
        "Результат моделі на валідаційних даних ще трохи покращився, і модель все ще чудово перформить на обох наборах даних."
      ],
      "metadata": {
        "id": "enZl69kJY7Wb"
      }
    },
    {
      "cell_type": "markdown",
      "source": [
        "4. Навчіть на наших даних модель LightGBM. Параметри алгоритму встановіть на свій розсуд, ми далі будемо їх тюнити. Рекомендую тренувати не дуже складну модель.\n",
        "\n",
        "  Опис всіх конфігураційних параметрів LightGBM - тут https://lightgbm.readthedocs.io/en/latest/Parameters.html\n",
        "\n",
        "  **Важливо:** зробіть такі налаштування LightGBM аби він самостійно обробляв незаповнені значення в даних і обробляв категоріальні колонки.\n",
        "\n",
        "  Аби передати категоріальні колонки в LightGBM - необхідно виявити їх індекси і передати в параметрі `cat_feature=cat_feature_indexes`\n",
        "\n",
        "  Після тренування моделі\n",
        "  1. Виміряйте точність з допомогою AUROC на тренувальному та валідаційному наборах.\n",
        "  2. Зробіть висновок про отриману модель: вона хороша/погана, чи є high bias/high variance?\n",
        "  3. Порівняйте якість цієї моделі з тою, що ви отрмали з використанням XGBoostClassifier раніше. Чи вийшло покращити якість?"
      ],
      "metadata": {
        "id": "Vg77SVWrBBmU"
      }
    },
    {
      "cell_type": "code",
      "source": [
        "cat_col_indices = [train_X.columns.get_loc(col) for col in categorical_cols]\n",
        "\n",
        "lgb = LGBMClassifier(\n",
        "    max_depth=3,\n",
        "    n_estimators=50,\n",
        "    learning_rate=0.1,\n",
        "    cat_feature=cat_col_indices\n",
        ")\n",
        "\n",
        "lgb.fit(train_X, train_y, eval_set=[(val_X, val_y)])\n",
        "\n",
        "print('Train AUROC', compute_auroc(lgb, train_X, train_y))\n",
        "print('Validation AUROC', compute_auroc(lgb, val_X, val_y))"
      ],
      "metadata": {
        "id": "C-9aZn4d45No",
        "colab": {
          "base_uri": "https://localhost:8080/"
        },
        "outputId": "c118954f-7fb0-418c-9708-5b1ea9407dcb"
      },
      "execution_count": 22,
      "outputs": [
        {
          "output_type": "stream",
          "name": "stdout",
          "text": [
            "[LightGBM] [Warning] categorical_feature is set with cat_feature=1,2, categorical_column=1,2 will be ignored. Current value: categorical_feature=1,2\n",
            "[LightGBM] [Info] Number of positive: 2442, number of negative: 9558\n",
            "[LightGBM] [Info] Auto-choosing row-wise multi-threading, the overhead of testing was 0.002025 seconds.\n",
            "You can set `force_row_wise=true` to remove the overhead.\n",
            "And if memory is not enough, you can set `force_col_wise=true`.\n",
            "[LightGBM] [Info] Total Bins 843\n",
            "[LightGBM] [Info] Number of data points in the train set: 12000, number of used features: 10\n",
            "[LightGBM] [Info] [binary:BoostFromScore]: pavg=0.203500 -> initscore=-1.364561\n",
            "[LightGBM] [Info] Start training from score -1.364561\n",
            "[LightGBM] [Warning] No further splits with positive gain, best gain: -inf\n",
            "[LightGBM] [Warning] No further splits with positive gain, best gain: -inf\n",
            "[LightGBM] [Warning] No further splits with positive gain, best gain: -inf\n",
            "[LightGBM] [Warning] No further splits with positive gain, best gain: -inf\n",
            "[LightGBM] [Warning] No further splits with positive gain, best gain: -inf\n",
            "[LightGBM] [Warning] No further splits with positive gain, best gain: -inf\n",
            "[LightGBM] [Warning] No further splits with positive gain, best gain: -inf\n",
            "[LightGBM] [Warning] No further splits with positive gain, best gain: -inf\n",
            "[LightGBM] [Warning] No further splits with positive gain, best gain: -inf\n",
            "[LightGBM] [Warning] No further splits with positive gain, best gain: -inf\n",
            "[LightGBM] [Warning] No further splits with positive gain, best gain: -inf\n",
            "[LightGBM] [Warning] No further splits with positive gain, best gain: -inf\n",
            "[LightGBM] [Warning] No further splits with positive gain, best gain: -inf\n",
            "[LightGBM] [Warning] No further splits with positive gain, best gain: -inf\n",
            "[LightGBM] [Warning] No further splits with positive gain, best gain: -inf\n",
            "[LightGBM] [Warning] No further splits with positive gain, best gain: -inf\n",
            "[LightGBM] [Warning] No further splits with positive gain, best gain: -inf\n",
            "[LightGBM] [Warning] No further splits with positive gain, best gain: -inf\n",
            "[LightGBM] [Warning] No further splits with positive gain, best gain: -inf\n",
            "[LightGBM] [Warning] No further splits with positive gain, best gain: -inf\n",
            "[LightGBM] [Warning] No further splits with positive gain, best gain: -inf\n",
            "[LightGBM] [Warning] No further splits with positive gain, best gain: -inf\n",
            "[LightGBM] [Warning] No further splits with positive gain, best gain: -inf\n",
            "[LightGBM] [Warning] No further splits with positive gain, best gain: -inf\n",
            "[LightGBM] [Warning] No further splits with positive gain, best gain: -inf\n",
            "[LightGBM] [Warning] No further splits with positive gain, best gain: -inf\n",
            "[LightGBM] [Warning] No further splits with positive gain, best gain: -inf\n",
            "[LightGBM] [Warning] No further splits with positive gain, best gain: -inf\n",
            "[LightGBM] [Warning] No further splits with positive gain, best gain: -inf\n",
            "[LightGBM] [Warning] No further splits with positive gain, best gain: -inf\n",
            "[LightGBM] [Warning] No further splits with positive gain, best gain: -inf\n",
            "[LightGBM] [Warning] No further splits with positive gain, best gain: -inf\n",
            "[LightGBM] [Warning] No further splits with positive gain, best gain: -inf\n",
            "[LightGBM] [Warning] No further splits with positive gain, best gain: -inf\n",
            "[LightGBM] [Warning] No further splits with positive gain, best gain: -inf\n",
            "[LightGBM] [Warning] No further splits with positive gain, best gain: -inf\n",
            "[LightGBM] [Warning] No further splits with positive gain, best gain: -inf\n",
            "[LightGBM] [Warning] No further splits with positive gain, best gain: -inf\n",
            "[LightGBM] [Warning] No further splits with positive gain, best gain: -inf\n",
            "[LightGBM] [Warning] No further splits with positive gain, best gain: -inf\n",
            "[LightGBM] [Warning] No further splits with positive gain, best gain: -inf\n",
            "[LightGBM] [Warning] No further splits with positive gain, best gain: -inf\n",
            "[LightGBM] [Warning] No further splits with positive gain, best gain: -inf\n",
            "[LightGBM] [Warning] No further splits with positive gain, best gain: -inf\n",
            "[LightGBM] [Warning] No further splits with positive gain, best gain: -inf\n",
            "[LightGBM] [Warning] No further splits with positive gain, best gain: -inf\n",
            "[LightGBM] [Warning] No further splits with positive gain, best gain: -inf\n",
            "[LightGBM] [Warning] No further splits with positive gain, best gain: -inf\n",
            "[LightGBM] [Warning] No further splits with positive gain, best gain: -inf\n",
            "[LightGBM] [Warning] No further splits with positive gain, best gain: -inf\n",
            "Train AUROC 0.9388081155971929\n",
            "Validation AUROC 0.9362229919747582\n"
          ]
        }
      ]
    },
    {
      "cell_type": "markdown",
      "source": [
        "Ця модель також видає чудові результати, вони дуже подібні до попередньої моделі."
      ],
      "metadata": {
        "id": "NDBEoE03Zt5F"
      }
    },
    {
      "cell_type": "markdown",
      "source": [
        "5. Використовуючи бібліотеку `Hyperopt` і приклад пошуку гіперпараметрів для `LightGBM` з лекції знайдіть оптимальні значення гіперпараметрів `LightGBM` для нашої задачі. Задайте свою сітку гіперпараметрів виходячи з тих параметрів, які ви б хотіли перебрати. Поставте кількість раундів в підборі гіперпараметрів рівну **10**.\n",
        "\n",
        "  **Увага!** Для того, аби скористатись hyperopt, нам треба задати функцію `objective`. І тут ми також ставимо loss - негативне значення AUROC, як і при пошуці гіперпараметрів для XGBoost. До речі, можна спробувати написати код так, аби в objective передавати лише модель і не писати схожий код двічі :)\n",
        "\n",
        "  Після успішного завершення пошуку оптимальних гіперпараметрів\n",
        "    - виведіть найкращі значення гіперпараметрів\n",
        "    - створіть в окремій зміній `final_lgb_clf` модель `LightGBM` з найкращими гіперпараметрами\n",
        "    - навчіть модель `final_lgb_clf`\n",
        "    - оцініть якість моделі `final_lgb_clf` на тренувальній і валідаційній вибірках з допомогою AUROC.\n",
        "    - зробіть висновок про якість моделі. Чи стала вона краще порівняно з попереднім пунктом (4) цього завдання?"
      ],
      "metadata": {
        "id": "nCnkGD_sEW1i"
      }
    },
    {
      "cell_type": "code",
      "source": [
        "# Wrapper function for hyperopt for LGBM\n",
        "def hyperopt_objective_lgbm(params):\n",
        "    return objective(LGBMClassifier, param_space, params, cat_feature=cat_col_indices)\n",
        "\n",
        "\n",
        "param_space = {\n",
        "    'params': {\n",
        "      'n_estimators': hp.quniform('n_estimators', 50, 500, 25),\n",
        "      'learning_rate': hp.uniform('learning_rate', 0.01, 0.3),\n",
        "      'max_depth': hp.quniform('max_depth', 1, 15, 1),\n",
        "      'num_leaves': hp.quniform('num_leaves', 10, 150, 1),\n",
        "      'min_child_weight': hp.quniform('min_child_weight', 1, 10, 1),\n",
        "      'subsample': hp.uniform('subsample', 0.5, 1.0),\n",
        "      'colsample_bytree': hp.uniform('colsample_bytree', 0.5, 1.0),\n",
        "      'reg_alpha': hp.uniform('reg_alpha', 0, 1),\n",
        "      'reg_lambda': hp.uniform('reg_lambda', 0, 1),\n",
        "      'min_split_gain': hp.uniform('min_split_gain', 0, 0.1)\n",
        " },\n",
        "    'int_params': ['n_estimators', 'max_depth', 'num_leaves']  # List of params that need to be converted to int\n",
        "}\n",
        "\n",
        "# Find best hyperparameters for LGBM Classifier\n",
        "best_lgbm = optimize_hyperopt_params(hyperopt_objective_lgbm, param_space['params'], param_space['int_params'], max_evals=10)"
      ],
      "metadata": {
        "id": "cfMQKA4D47Rq"
      },
      "execution_count": null,
      "outputs": []
    },
    {
      "cell_type": "code",
      "source": [
        "# Final model with the best parameters\n",
        "final_lgb_clf = LGBMClassifier(\n",
        "    n_estimators=best_lgbm['n_estimators'],\n",
        "    learning_rate=best_lgbm['learning_rate'],\n",
        "    max_depth=best_lgbm['max_depth'],\n",
        "    num_leaves=best_lgbm['num_leaves'],\n",
        "    min_child_weight=best_lgbm['min_child_weight'],\n",
        "    subsample=best_lgbm['subsample'],\n",
        "    colsample_bytree=best_lgbm['colsample_bytree'],\n",
        "    reg_alpha=best_lgbm['reg_alpha'],\n",
        "    reg_lambda=best_lgbm['reg_lambda'],\n",
        "    min_split_gain=best_lgbm['min_split_gain'],\n",
        "    cat_feature=cat_col_indices,\n",
        "    random_state=42\n",
        ")\n",
        "\n",
        "final_lgb_clf.fit(train_X, train_y)\n",
        "\n",
        "print('Train AUROC', compute_auroc(final_lgb_clf, train_X, train_y))\n",
        "print('Validation AUROC', compute_auroc(final_lgb_clf, val_X, val_y))"
      ],
      "metadata": {
        "colab": {
          "base_uri": "https://localhost:8080/"
        },
        "id": "2PIGLGYRmYY_",
        "outputId": "c21644b0-ccb9-4694-85a3-50382ee0e86b"
      },
      "execution_count": 24,
      "outputs": [
        {
          "output_type": "stream",
          "name": "stdout",
          "text": [
            "[LightGBM] [Warning] categorical_feature is set with categorical_column=1,2, will be overridden by cat_feature=1,2. Current value: categorical_feature=1,2\n",
            "[LightGBM] [Info] Number of positive: 2442, number of negative: 9558\n",
            "[LightGBM] [Info] Auto-choosing row-wise multi-threading, the overhead of testing was 0.001813 seconds.\n",
            "You can set `force_row_wise=true` to remove the overhead.\n",
            "And if memory is not enough, you can set `force_col_wise=true`.\n",
            "[LightGBM] [Info] Total Bins 843\n",
            "[LightGBM] [Info] Number of data points in the train set: 12000, number of used features: 10\n",
            "[LightGBM] [Info] [binary:BoostFromScore]: pavg=0.203500 -> initscore=-1.364561\n",
            "[LightGBM] [Info] Start training from score -1.364561\n",
            "[LightGBM] [Warning] No further splits with positive gain, best gain: -inf\n",
            "[LightGBM] [Warning] No further splits with positive gain, best gain: -inf\n",
            "[LightGBM] [Warning] No further splits with positive gain, best gain: -inf\n",
            "[LightGBM] [Warning] No further splits with positive gain, best gain: -inf\n",
            "[LightGBM] [Warning] No further splits with positive gain, best gain: -inf\n",
            "[LightGBM] [Warning] No further splits with positive gain, best gain: -inf\n",
            "[LightGBM] [Warning] No further splits with positive gain, best gain: -inf\n",
            "[LightGBM] [Warning] No further splits with positive gain, best gain: -inf\n",
            "[LightGBM] [Warning] No further splits with positive gain, best gain: -inf\n",
            "[LightGBM] [Warning] No further splits with positive gain, best gain: -inf\n",
            "[LightGBM] [Warning] No further splits with positive gain, best gain: -inf\n",
            "[LightGBM] [Warning] No further splits with positive gain, best gain: -inf\n",
            "[LightGBM] [Warning] No further splits with positive gain, best gain: -inf\n",
            "[LightGBM] [Warning] No further splits with positive gain, best gain: -inf\n",
            "Train AUROC 0.942016040179882\n",
            "Validation AUROC 0.9368838740654366\n"
          ]
        }
      ]
    },
    {
      "cell_type": "markdown",
      "source": [
        "Ця модель теж видає чудові і дуже подібні результати до попередніх."
      ],
      "metadata": {
        "id": "hpqCnwg4FZqU"
      }
    },
    {
      "cell_type": "markdown",
      "source": [
        "6. Оберіть модель з експериментів в цьому ДЗ і зробіть новий `submission` на Kaggle та додайте код для цього і скріншот скора на публічному лідерборді.\n",
        "  \n",
        "  **Напишіть коментар, чому ви обрали саме цю модель?**\n",
        "\n",
        "  І я вас вітаю - це останнє завдання з цим набором даних 💪 На цьому етапі корисно проаналізувати, які моделі показали себе найкраще і подумати, чому."
      ],
      "metadata": {
        "id": "XArADR2CG8VK"
      }
    },
    {
      "cell_type": "markdown",
      "source": [
        "Найкращий результат показує модель final_clf - XGBoostClassifier з гіперпараметрами знайденими за допомогою Hyperopt."
      ],
      "metadata": {
        "id": "Qp9aGXBJG59B"
      }
    },
    {
      "cell_type": "code",
      "source": [
        "test_raw_df = pd.read_csv(test_csv)\n",
        "test_X = test_raw_df[input_cols]\n",
        "test_X[categorical_cols] = test_X[categorical_cols].astype('category')\n",
        "probas = final_clf.predict_proba(test_X)"
      ],
      "metadata": {
        "id": "COIjJH9f5SSp"
      },
      "execution_count": null,
      "outputs": []
    },
    {
      "cell_type": "code",
      "source": [
        "from google.colab import drive\n",
        "drive.mount('/content/drive')\n",
        "dir = '/content/drive/MyDrive/Machine Learning/Data/'\n",
        "os.chdir(dir)"
      ],
      "metadata": {
        "colab": {
          "base_uri": "https://localhost:8080/"
        },
        "id": "4BwBm5cKnksO",
        "outputId": "87a7bd5b-2e40-4b60-9a4c-e76ea3a1ba0d"
      },
      "execution_count": 46,
      "outputs": [
        {
          "output_type": "stream",
          "name": "stdout",
          "text": [
            "Mounted at /content/drive\n"
          ]
        }
      ]
    },
    {
      "cell_type": "code",
      "source": [
        "submission = pd.read_csv(sample_submission_csv)\n",
        "submission.Exited = probas[:,1]\n",
        "submission.head()\n",
        "submission.to_csv('submission_xgb_hyperopt.csv', index=False)"
      ],
      "metadata": {
        "id": "kI__hM1onlUW"
      },
      "execution_count": 85,
      "outputs": []
    },
    {
      "cell_type": "markdown",
      "source": [
        "![Screenshot 2024-07-26 at 9.00.26 PM.png](data:image/png;base64,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)"
      ],
      "metadata": {
        "id": "oayacvZXMtfR"
      }
    }
  ]
}