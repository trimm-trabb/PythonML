{
  "nbformat": 4,
  "nbformat_minor": 0,
  "metadata": {
    "colab": {
      "provenance": []
    },
    "kernelspec": {
      "name": "python3",
      "display_name": "Python 3"
    },
    "language_info": {
      "name": "python"
    }
  },
  "cells": [
    {
      "cell_type": "markdown",
      "source": [
        "В цьому домашньому завданні ми знову працюємо з даними з нашого змагання [\"Bank Customer Churn Prediction (DLU Course)\"](https://www.kaggle.com/t/7c080c5d8ec64364a93cf4e8f880b6a0).\n",
        "\n",
        "Тут ми побудуємо рішення задачі класифікації з використанням kNearestNeighboors, знайдемо оптимальні гіперпараметри для цього методу і зробимо базові ансамблі. Це дасть змогу порівняти перформанс моделі з попередніми вивченими методами."
      ],
      "metadata": {
        "id": "fDefDHQt8LXC"
      }
    },
    {
      "cell_type": "markdown",
      "source": [
        "0. Зчитайте дані `train.csv` та зробіть препроцесинг використовуючи написаний Вами скрипт `process_bank_churn.py` так, аби в результаті отримати дані в розбитті X_train, train_targets, X_val, val_targets для експериментів.\n",
        "\n",
        "  Якщо Вам не вдалось реалізувати в завданні `2.3. Дерева прийняття рішень` скрипт `process_bank_churn.py` - можна скористатись готовим скриптом з запропонованого рішення того завдання."
      ],
      "metadata": {
        "id": "LhivzW9W8-Dz"
      }
    },
    {
      "cell_type": "code",
      "source": [
        "!wget https://raw.githubusercontent.com/trimm-trabb/PythonML/main/bank_churn_preprocessing.py\n",
        "!pip install opendatasets --upgrade --quiet"
      ],
      "metadata": {
        "id": "Z-mntPMAH-rv",
        "colab": {
          "base_uri": "https://localhost:8080/"
        },
        "outputId": "beabed49-7123-46c9-a37c-0138b640998f"
      },
      "execution_count": 1,
      "outputs": [
        {
          "output_type": "stream",
          "name": "stdout",
          "text": [
            "--2024-07-15 09:56:01--  https://raw.githubusercontent.com/trimm-trabb/PythonML/main/bank_churn_preprocessing.py\n",
            "Resolving raw.githubusercontent.com (raw.githubusercontent.com)... 185.199.108.133, 185.199.110.133, 185.199.111.133, ...\n",
            "Connecting to raw.githubusercontent.com (raw.githubusercontent.com)|185.199.108.133|:443... connected.\n",
            "HTTP request sent, awaiting response... 200 OK\n",
            "Length: 6462 (6.3K) [text/plain]\n",
            "Saving to: ‘bank_churn_preprocessing.py’\n",
            "\n",
            "\r          bank_chur   0%[                    ]       0  --.-KB/s               \rbank_churn_preproce 100%[===================>]   6.31K  --.-KB/s    in 0s      \n",
            "\n",
            "2024-07-15 09:56:01 (68.2 MB/s) - ‘bank_churn_preprocessing.py’ saved [6462/6462]\n",
            "\n"
          ]
        }
      ]
    },
    {
      "cell_type": "code",
      "source": [
        "from bank_churn_preprocessing import preprocess_data, preprocess_new_data\n",
        "import opendatasets as od\n",
        "import os\n",
        "import pandas as pd\n",
        "import numpy as np\n",
        "import matplotlib.pyplot as plt\n",
        "import seaborn as sns\n",
        "from sklearn.tree import DecisionTreeClassifier\n",
        "from sklearn.neighbors import KNeighborsClassifier\n",
        "#from sklearn import preprocessing\n",
        "from sklearn.model_selection import train_test_split, RandomizedSearchCV, GridSearchCV, StratifiedKFold\n",
        "from sklearn.metrics import roc_auc_score"
      ],
      "metadata": {
        "id": "BAV4HzqKrhSa"
      },
      "execution_count": 2,
      "outputs": []
    },
    {
      "cell_type": "code",
      "source": [
        "pd.options.display.max_columns = None"
      ],
      "metadata": {
        "id": "ImD9dOZBrlWi"
      },
      "execution_count": 4,
      "outputs": []
    },
    {
      "cell_type": "code",
      "source": [
        "dataset_url = 'https://www.kaggle.com/competitions/bank-customer-churn-prediction-dlu/data?select=train.csv'\n",
        "od.download(dataset_url)"
      ],
      "metadata": {
        "colab": {
          "base_uri": "https://localhost:8080/"
        },
        "id": "n_Ahw5IwrmUj",
        "outputId": "22964595-1e9b-4673-c36f-5269c37441e7"
      },
      "execution_count": 3,
      "outputs": [
        {
          "output_type": "stream",
          "name": "stdout",
          "text": [
            "Please provide your Kaggle credentials to download this dataset. Learn more: http://bit.ly/kaggle-creds\n",
            "Your Kaggle username: anastasiiakhartynova\n",
            "Your Kaggle Key: ··········\n",
            "Downloading bank-customer-churn-prediction-dlu.zip to ./bank-customer-churn-prediction-dlu\n"
          ]
        },
        {
          "output_type": "stream",
          "name": "stderr",
          "text": [
            "100%|██████████| 637k/637k [00:00<00:00, 50.8MB/s]"
          ]
        },
        {
          "output_type": "stream",
          "name": "stdout",
          "text": [
            "\n",
            "Extracting archive ./bank-customer-churn-prediction-dlu/bank-customer-churn-prediction-dlu.zip to ./bank-customer-churn-prediction-dlu\n"
          ]
        },
        {
          "output_type": "stream",
          "name": "stderr",
          "text": [
            "\n"
          ]
        }
      ]
    },
    {
      "cell_type": "code",
      "source": [
        "data_dir = './bank-customer-churn-prediction-dlu'\n",
        "train_csv = data_dir + '/train.csv'\n",
        "test_csv =  data_dir + '/test.csv'\n",
        "sample_submission_csv =  data_dir + '/sample_submission.csv'"
      ],
      "metadata": {
        "id": "0ZFHmfdyrzog"
      },
      "execution_count": 4,
      "outputs": []
    },
    {
      "cell_type": "code",
      "source": [
        "raw_df = pd.read_csv(train_csv)\n",
        "datasets, input_cols, scaler, encoder = preprocess_data(raw_df, 'Exited', ['id', 'CustomerId'], ['Surname'], scale_numeric=True)\n",
        "train_X = datasets['train_X']\n",
        "train_y = datasets['train_y']\n",
        "val_X = datasets['val_X']\n",
        "val_y = datasets['val_y']"
      ],
      "metadata": {
        "id": "GGZGk0fAr1lF"
      },
      "execution_count": 5,
      "outputs": []
    },
    {
      "cell_type": "markdown",
      "source": [
        "1. Навчіть на цих даних класифікатор kNN з параметрами за замовченням і виміряйте точність з допомогою AUROC на тренувальному та валідаційному наборах. Зробіть заключення про отриману модель: вона хороша/погана, чи є high bias/high variance?"
      ],
      "metadata": {
        "id": "_LxWkv4o-wMe"
      }
    },
    {
      "cell_type": "code",
      "source": [
        "def compute_auroc(model, inputs, targets):\n",
        "  y_pred = model.predict_proba(inputs)[:, 1]\n",
        "\n",
        "  return roc_auc_score(targets, y_pred)"
      ],
      "metadata": {
        "id": "XD1ThS_332vF"
      },
      "execution_count": 6,
      "outputs": []
    },
    {
      "cell_type": "code",
      "source": [
        "knn = KNeighborsClassifier()\n",
        "knn.fit(train_X, train_y)"
      ],
      "metadata": {
        "id": "1TH7H_Z9IAHD",
        "colab": {
          "base_uri": "https://localhost:8080/",
          "height": 74
        },
        "outputId": "23f3f6b5-e966-45f3-b8c0-3810f760d101"
      },
      "execution_count": 7,
      "outputs": [
        {
          "output_type": "execute_result",
          "data": {
            "text/plain": [
              "KNeighborsClassifier()"
            ],
            "text/html": [
              "<style>#sk-container-id-1 {color: black;background-color: white;}#sk-container-id-1 pre{padding: 0;}#sk-container-id-1 div.sk-toggleable {background-color: white;}#sk-container-id-1 label.sk-toggleable__label {cursor: pointer;display: block;width: 100%;margin-bottom: 0;padding: 0.3em;box-sizing: border-box;text-align: center;}#sk-container-id-1 label.sk-toggleable__label-arrow:before {content: \"▸\";float: left;margin-right: 0.25em;color: #696969;}#sk-container-id-1 label.sk-toggleable__label-arrow:hover:before {color: black;}#sk-container-id-1 div.sk-estimator:hover label.sk-toggleable__label-arrow:before {color: black;}#sk-container-id-1 div.sk-toggleable__content {max-height: 0;max-width: 0;overflow: hidden;text-align: left;background-color: #f0f8ff;}#sk-container-id-1 div.sk-toggleable__content pre {margin: 0.2em;color: black;border-radius: 0.25em;background-color: #f0f8ff;}#sk-container-id-1 input.sk-toggleable__control:checked~div.sk-toggleable__content {max-height: 200px;max-width: 100%;overflow: auto;}#sk-container-id-1 input.sk-toggleable__control:checked~label.sk-toggleable__label-arrow:before {content: \"▾\";}#sk-container-id-1 div.sk-estimator input.sk-toggleable__control:checked~label.sk-toggleable__label {background-color: #d4ebff;}#sk-container-id-1 div.sk-label input.sk-toggleable__control:checked~label.sk-toggleable__label {background-color: #d4ebff;}#sk-container-id-1 input.sk-hidden--visually {border: 0;clip: rect(1px 1px 1px 1px);clip: rect(1px, 1px, 1px, 1px);height: 1px;margin: -1px;overflow: hidden;padding: 0;position: absolute;width: 1px;}#sk-container-id-1 div.sk-estimator {font-family: monospace;background-color: #f0f8ff;border: 1px dotted black;border-radius: 0.25em;box-sizing: border-box;margin-bottom: 0.5em;}#sk-container-id-1 div.sk-estimator:hover {background-color: #d4ebff;}#sk-container-id-1 div.sk-parallel-item::after {content: \"\";width: 100%;border-bottom: 1px solid gray;flex-grow: 1;}#sk-container-id-1 div.sk-label:hover label.sk-toggleable__label {background-color: #d4ebff;}#sk-container-id-1 div.sk-serial::before {content: \"\";position: absolute;border-left: 1px solid gray;box-sizing: border-box;top: 0;bottom: 0;left: 50%;z-index: 0;}#sk-container-id-1 div.sk-serial {display: flex;flex-direction: column;align-items: center;background-color: white;padding-right: 0.2em;padding-left: 0.2em;position: relative;}#sk-container-id-1 div.sk-item {position: relative;z-index: 1;}#sk-container-id-1 div.sk-parallel {display: flex;align-items: stretch;justify-content: center;background-color: white;position: relative;}#sk-container-id-1 div.sk-item::before, #sk-container-id-1 div.sk-parallel-item::before {content: \"\";position: absolute;border-left: 1px solid gray;box-sizing: border-box;top: 0;bottom: 0;left: 50%;z-index: -1;}#sk-container-id-1 div.sk-parallel-item {display: flex;flex-direction: column;z-index: 1;position: relative;background-color: white;}#sk-container-id-1 div.sk-parallel-item:first-child::after {align-self: flex-end;width: 50%;}#sk-container-id-1 div.sk-parallel-item:last-child::after {align-self: flex-start;width: 50%;}#sk-container-id-1 div.sk-parallel-item:only-child::after {width: 0;}#sk-container-id-1 div.sk-dashed-wrapped {border: 1px dashed gray;margin: 0 0.4em 0.5em 0.4em;box-sizing: border-box;padding-bottom: 0.4em;background-color: white;}#sk-container-id-1 div.sk-label label {font-family: monospace;font-weight: bold;display: inline-block;line-height: 1.2em;}#sk-container-id-1 div.sk-label-container {text-align: center;}#sk-container-id-1 div.sk-container {/* jupyter's `normalize.less` sets `[hidden] { display: none; }` but bootstrap.min.css set `[hidden] { display: none !important; }` so we also need the `!important` here to be able to override the default hidden behavior on the sphinx rendered scikit-learn.org. See: https://github.com/scikit-learn/scikit-learn/issues/21755 */display: inline-block !important;position: relative;}#sk-container-id-1 div.sk-text-repr-fallback {display: none;}</style><div id=\"sk-container-id-1\" class=\"sk-top-container\"><div class=\"sk-text-repr-fallback\"><pre>KNeighborsClassifier()</pre><b>In a Jupyter environment, please rerun this cell to show the HTML representation or trust the notebook. <br />On GitHub, the HTML representation is unable to render, please try loading this page with nbviewer.org.</b></div><div class=\"sk-container\" hidden><div class=\"sk-item\"><div class=\"sk-estimator sk-toggleable\"><input class=\"sk-toggleable__control sk-hidden--visually\" id=\"sk-estimator-id-1\" type=\"checkbox\" checked><label for=\"sk-estimator-id-1\" class=\"sk-toggleable__label sk-toggleable__label-arrow\">KNeighborsClassifier</label><div class=\"sk-toggleable__content\"><pre>KNeighborsClassifier()</pre></div></div></div></div></div>"
            ]
          },
          "metadata": {},
          "execution_count": 7
        }
      ]
    },
    {
      "cell_type": "code",
      "source": [
        "print('Train AUROC', compute_auroc(knn, train_X, train_y))\n",
        "print('Validation AUROC', compute_auroc(knn, val_X, val_y))"
      ],
      "metadata": {
        "colab": {
          "base_uri": "https://localhost:8080/"
        },
        "id": "PVcBqnC03_9c",
        "outputId": "cd721285-2416-4bfa-d8f3-32d1885f363b"
      },
      "execution_count": 9,
      "outputs": [
        {
          "output_type": "stream",
          "name": "stdout",
          "text": [
            "Train AUROC 0.9559428457733543\n",
            "Validation AUROC 0.852585568283147\n"
          ]
        }
      ]
    },
    {
      "cell_type": "markdown",
      "source": [
        "Модель видає дуже хороший результат на трейн даних, але падіння auroc на валідаційних даних свідчить про певний ступінь перенавчання і high variance. Думаю, поескпериментувавши з гіперпараметрами, ми могли би отримати кращу модель."
      ],
      "metadata": {
        "id": "0wzleJTKZTyE"
      }
    },
    {
      "cell_type": "markdown",
      "source": [
        "2. Використовуючи `GridSearchCV` знайдіть оптимальне значення параметра `n_neighbors` для класифікатора `kNN`. Псотавте крос валідацію на 5 фолдів.\n",
        "\n",
        "  Після успішного завершення пошуку оптимального гіперпараметра\n",
        "    - виведіть найкраще значення параметра\n",
        "    - збережіть в окрему змінну `knn_best` найкращу модель, знайдену з `GridSearchCV`\n",
        "    - оцініть якість передбачень  `knn_best` на тренувальній і валідаційній вибірці з допомогою AUROC.\n",
        "    - зробіть висновок про якість моделі. Чи стала вона краще порівняно з попереднім пукнтом (2) цього завдання? Чи є вона краще за дерево прийняття рішень з попереднього ДЗ?"
      ],
      "metadata": {
        "id": "U4hm5qYs_f7x"
      }
    },
    {
      "cell_type": "code",
      "source": [
        "k_values = np.arange(3, 40)\n",
        "param_grid = {'n_neighbors': k_values}\n",
        "\n",
        "grid_search_knn = GridSearchCV(KNeighborsClassifier(), param_grid, cv=5, scoring=\"roc_auc\")"
      ],
      "metadata": {
        "id": "a50AtDZ9IDNx"
      },
      "execution_count": 10,
      "outputs": []
    },
    {
      "cell_type": "code",
      "source": [
        "grid_search_knn.fit(train_X, train_y)"
      ],
      "metadata": {
        "colab": {
          "base_uri": "https://localhost:8080/",
          "height": 115
        },
        "id": "-74lOY4O6mAV",
        "outputId": "26e7d82e-3272-4a4e-e7a1-0862fde9fdfc"
      },
      "execution_count": 11,
      "outputs": [
        {
          "output_type": "execute_result",
          "data": {
            "text/plain": [
              "GridSearchCV(cv=5, estimator=KNeighborsClassifier(),\n",
              "             param_grid={'n_neighbors': array([ 3,  4,  5,  6,  7,  8,  9, 10, 11, 12, 13, 14, 15, 16, 17, 18, 19,\n",
              "       20, 21, 22, 23, 24, 25, 26, 27, 28, 29, 30, 31, 32, 33, 34, 35, 36,\n",
              "       37, 38, 39])},\n",
              "             scoring='roc_auc')"
            ],
            "text/html": [
              "<style>#sk-container-id-2 {color: black;background-color: white;}#sk-container-id-2 pre{padding: 0;}#sk-container-id-2 div.sk-toggleable {background-color: white;}#sk-container-id-2 label.sk-toggleable__label {cursor: pointer;display: block;width: 100%;margin-bottom: 0;padding: 0.3em;box-sizing: border-box;text-align: center;}#sk-container-id-2 label.sk-toggleable__label-arrow:before {content: \"▸\";float: left;margin-right: 0.25em;color: #696969;}#sk-container-id-2 label.sk-toggleable__label-arrow:hover:before {color: black;}#sk-container-id-2 div.sk-estimator:hover label.sk-toggleable__label-arrow:before {color: black;}#sk-container-id-2 div.sk-toggleable__content {max-height: 0;max-width: 0;overflow: hidden;text-align: left;background-color: #f0f8ff;}#sk-container-id-2 div.sk-toggleable__content pre {margin: 0.2em;color: black;border-radius: 0.25em;background-color: #f0f8ff;}#sk-container-id-2 input.sk-toggleable__control:checked~div.sk-toggleable__content {max-height: 200px;max-width: 100%;overflow: auto;}#sk-container-id-2 input.sk-toggleable__control:checked~label.sk-toggleable__label-arrow:before {content: \"▾\";}#sk-container-id-2 div.sk-estimator input.sk-toggleable__control:checked~label.sk-toggleable__label {background-color: #d4ebff;}#sk-container-id-2 div.sk-label input.sk-toggleable__control:checked~label.sk-toggleable__label {background-color: #d4ebff;}#sk-container-id-2 input.sk-hidden--visually {border: 0;clip: rect(1px 1px 1px 1px);clip: rect(1px, 1px, 1px, 1px);height: 1px;margin: -1px;overflow: hidden;padding: 0;position: absolute;width: 1px;}#sk-container-id-2 div.sk-estimator {font-family: monospace;background-color: #f0f8ff;border: 1px dotted black;border-radius: 0.25em;box-sizing: border-box;margin-bottom: 0.5em;}#sk-container-id-2 div.sk-estimator:hover {background-color: #d4ebff;}#sk-container-id-2 div.sk-parallel-item::after {content: \"\";width: 100%;border-bottom: 1px solid gray;flex-grow: 1;}#sk-container-id-2 div.sk-label:hover label.sk-toggleable__label {background-color: #d4ebff;}#sk-container-id-2 div.sk-serial::before {content: \"\";position: absolute;border-left: 1px solid gray;box-sizing: border-box;top: 0;bottom: 0;left: 50%;z-index: 0;}#sk-container-id-2 div.sk-serial {display: flex;flex-direction: column;align-items: center;background-color: white;padding-right: 0.2em;padding-left: 0.2em;position: relative;}#sk-container-id-2 div.sk-item {position: relative;z-index: 1;}#sk-container-id-2 div.sk-parallel {display: flex;align-items: stretch;justify-content: center;background-color: white;position: relative;}#sk-container-id-2 div.sk-item::before, #sk-container-id-2 div.sk-parallel-item::before {content: \"\";position: absolute;border-left: 1px solid gray;box-sizing: border-box;top: 0;bottom: 0;left: 50%;z-index: -1;}#sk-container-id-2 div.sk-parallel-item {display: flex;flex-direction: column;z-index: 1;position: relative;background-color: white;}#sk-container-id-2 div.sk-parallel-item:first-child::after {align-self: flex-end;width: 50%;}#sk-container-id-2 div.sk-parallel-item:last-child::after {align-self: flex-start;width: 50%;}#sk-container-id-2 div.sk-parallel-item:only-child::after {width: 0;}#sk-container-id-2 div.sk-dashed-wrapped {border: 1px dashed gray;margin: 0 0.4em 0.5em 0.4em;box-sizing: border-box;padding-bottom: 0.4em;background-color: white;}#sk-container-id-2 div.sk-label label {font-family: monospace;font-weight: bold;display: inline-block;line-height: 1.2em;}#sk-container-id-2 div.sk-label-container {text-align: center;}#sk-container-id-2 div.sk-container {/* jupyter's `normalize.less` sets `[hidden] { display: none; }` but bootstrap.min.css set `[hidden] { display: none !important; }` so we also need the `!important` here to be able to override the default hidden behavior on the sphinx rendered scikit-learn.org. See: https://github.com/scikit-learn/scikit-learn/issues/21755 */display: inline-block !important;position: relative;}#sk-container-id-2 div.sk-text-repr-fallback {display: none;}</style><div id=\"sk-container-id-2\" class=\"sk-top-container\"><div class=\"sk-text-repr-fallback\"><pre>GridSearchCV(cv=5, estimator=KNeighborsClassifier(),\n",
              "             param_grid={&#x27;n_neighbors&#x27;: array([ 3,  4,  5,  6,  7,  8,  9, 10, 11, 12, 13, 14, 15, 16, 17, 18, 19,\n",
              "       20, 21, 22, 23, 24, 25, 26, 27, 28, 29, 30, 31, 32, 33, 34, 35, 36,\n",
              "       37, 38, 39])},\n",
              "             scoring=&#x27;roc_auc&#x27;)</pre><b>In a Jupyter environment, please rerun this cell to show the HTML representation or trust the notebook. <br />On GitHub, the HTML representation is unable to render, please try loading this page with nbviewer.org.</b></div><div class=\"sk-container\" hidden><div class=\"sk-item sk-dashed-wrapped\"><div class=\"sk-label-container\"><div class=\"sk-label sk-toggleable\"><input class=\"sk-toggleable__control sk-hidden--visually\" id=\"sk-estimator-id-2\" type=\"checkbox\" ><label for=\"sk-estimator-id-2\" class=\"sk-toggleable__label sk-toggleable__label-arrow\">GridSearchCV</label><div class=\"sk-toggleable__content\"><pre>GridSearchCV(cv=5, estimator=KNeighborsClassifier(),\n",
              "             param_grid={&#x27;n_neighbors&#x27;: array([ 3,  4,  5,  6,  7,  8,  9, 10, 11, 12, 13, 14, 15, 16, 17, 18, 19,\n",
              "       20, 21, 22, 23, 24, 25, 26, 27, 28, 29, 30, 31, 32, 33, 34, 35, 36,\n",
              "       37, 38, 39])},\n",
              "             scoring=&#x27;roc_auc&#x27;)</pre></div></div></div><div class=\"sk-parallel\"><div class=\"sk-parallel-item\"><div class=\"sk-item\"><div class=\"sk-label-container\"><div class=\"sk-label sk-toggleable\"><input class=\"sk-toggleable__control sk-hidden--visually\" id=\"sk-estimator-id-3\" type=\"checkbox\" ><label for=\"sk-estimator-id-3\" class=\"sk-toggleable__label sk-toggleable__label-arrow\">estimator: KNeighborsClassifier</label><div class=\"sk-toggleable__content\"><pre>KNeighborsClassifier()</pre></div></div></div><div class=\"sk-serial\"><div class=\"sk-item\"><div class=\"sk-estimator sk-toggleable\"><input class=\"sk-toggleable__control sk-hidden--visually\" id=\"sk-estimator-id-4\" type=\"checkbox\" ><label for=\"sk-estimator-id-4\" class=\"sk-toggleable__label sk-toggleable__label-arrow\">KNeighborsClassifier</label><div class=\"sk-toggleable__content\"><pre>KNeighborsClassifier()</pre></div></div></div></div></div></div></div></div></div></div>"
            ]
          },
          "metadata": {},
          "execution_count": 11
        }
      ]
    },
    {
      "cell_type": "code",
      "source": [
        "grid_search_knn.best_params_, grid_search_knn.best_score_"
      ],
      "metadata": {
        "colab": {
          "base_uri": "https://localhost:8080/"
        },
        "id": "Kat9qKQe6sfs",
        "outputId": "2d36580b-8462-42a9-8924-30a2f8725923"
      },
      "execution_count": 12,
      "outputs": [
        {
          "output_type": "execute_result",
          "data": {
            "text/plain": [
              "({'n_neighbors': 19}, 0.8853000771869176)"
            ]
          },
          "metadata": {},
          "execution_count": 12
        }
      ]
    },
    {
      "cell_type": "code",
      "source": [
        "knn_best = grid_search_knn.best_estimator_\n",
        "knn_best.fit(train_X, train_y)"
      ],
      "metadata": {
        "colab": {
          "base_uri": "https://localhost:8080/",
          "height": 74
        },
        "id": "6Kyl7p659EM2",
        "outputId": "96503d8c-3472-4f84-dd64-75e5c028b120"
      },
      "execution_count": 13,
      "outputs": [
        {
          "output_type": "execute_result",
          "data": {
            "text/plain": [
              "KNeighborsClassifier(n_neighbors=19)"
            ],
            "text/html": [
              "<style>#sk-container-id-3 {color: black;background-color: white;}#sk-container-id-3 pre{padding: 0;}#sk-container-id-3 div.sk-toggleable {background-color: white;}#sk-container-id-3 label.sk-toggleable__label {cursor: pointer;display: block;width: 100%;margin-bottom: 0;padding: 0.3em;box-sizing: border-box;text-align: center;}#sk-container-id-3 label.sk-toggleable__label-arrow:before {content: \"▸\";float: left;margin-right: 0.25em;color: #696969;}#sk-container-id-3 label.sk-toggleable__label-arrow:hover:before {color: black;}#sk-container-id-3 div.sk-estimator:hover label.sk-toggleable__label-arrow:before {color: black;}#sk-container-id-3 div.sk-toggleable__content {max-height: 0;max-width: 0;overflow: hidden;text-align: left;background-color: #f0f8ff;}#sk-container-id-3 div.sk-toggleable__content pre {margin: 0.2em;color: black;border-radius: 0.25em;background-color: #f0f8ff;}#sk-container-id-3 input.sk-toggleable__control:checked~div.sk-toggleable__content {max-height: 200px;max-width: 100%;overflow: auto;}#sk-container-id-3 input.sk-toggleable__control:checked~label.sk-toggleable__label-arrow:before {content: \"▾\";}#sk-container-id-3 div.sk-estimator input.sk-toggleable__control:checked~label.sk-toggleable__label {background-color: #d4ebff;}#sk-container-id-3 div.sk-label input.sk-toggleable__control:checked~label.sk-toggleable__label {background-color: #d4ebff;}#sk-container-id-3 input.sk-hidden--visually {border: 0;clip: rect(1px 1px 1px 1px);clip: rect(1px, 1px, 1px, 1px);height: 1px;margin: -1px;overflow: hidden;padding: 0;position: absolute;width: 1px;}#sk-container-id-3 div.sk-estimator {font-family: monospace;background-color: #f0f8ff;border: 1px dotted black;border-radius: 0.25em;box-sizing: border-box;margin-bottom: 0.5em;}#sk-container-id-3 div.sk-estimator:hover {background-color: #d4ebff;}#sk-container-id-3 div.sk-parallel-item::after {content: \"\";width: 100%;border-bottom: 1px solid gray;flex-grow: 1;}#sk-container-id-3 div.sk-label:hover label.sk-toggleable__label {background-color: #d4ebff;}#sk-container-id-3 div.sk-serial::before {content: \"\";position: absolute;border-left: 1px solid gray;box-sizing: border-box;top: 0;bottom: 0;left: 50%;z-index: 0;}#sk-container-id-3 div.sk-serial {display: flex;flex-direction: column;align-items: center;background-color: white;padding-right: 0.2em;padding-left: 0.2em;position: relative;}#sk-container-id-3 div.sk-item {position: relative;z-index: 1;}#sk-container-id-3 div.sk-parallel {display: flex;align-items: stretch;justify-content: center;background-color: white;position: relative;}#sk-container-id-3 div.sk-item::before, #sk-container-id-3 div.sk-parallel-item::before {content: \"\";position: absolute;border-left: 1px solid gray;box-sizing: border-box;top: 0;bottom: 0;left: 50%;z-index: -1;}#sk-container-id-3 div.sk-parallel-item {display: flex;flex-direction: column;z-index: 1;position: relative;background-color: white;}#sk-container-id-3 div.sk-parallel-item:first-child::after {align-self: flex-end;width: 50%;}#sk-container-id-3 div.sk-parallel-item:last-child::after {align-self: flex-start;width: 50%;}#sk-container-id-3 div.sk-parallel-item:only-child::after {width: 0;}#sk-container-id-3 div.sk-dashed-wrapped {border: 1px dashed gray;margin: 0 0.4em 0.5em 0.4em;box-sizing: border-box;padding-bottom: 0.4em;background-color: white;}#sk-container-id-3 div.sk-label label {font-family: monospace;font-weight: bold;display: inline-block;line-height: 1.2em;}#sk-container-id-3 div.sk-label-container {text-align: center;}#sk-container-id-3 div.sk-container {/* jupyter's `normalize.less` sets `[hidden] { display: none; }` but bootstrap.min.css set `[hidden] { display: none !important; }` so we also need the `!important` here to be able to override the default hidden behavior on the sphinx rendered scikit-learn.org. See: https://github.com/scikit-learn/scikit-learn/issues/21755 */display: inline-block !important;position: relative;}#sk-container-id-3 div.sk-text-repr-fallback {display: none;}</style><div id=\"sk-container-id-3\" class=\"sk-top-container\"><div class=\"sk-text-repr-fallback\"><pre>KNeighborsClassifier(n_neighbors=19)</pre><b>In a Jupyter environment, please rerun this cell to show the HTML representation or trust the notebook. <br />On GitHub, the HTML representation is unable to render, please try loading this page with nbviewer.org.</b></div><div class=\"sk-container\" hidden><div class=\"sk-item\"><div class=\"sk-estimator sk-toggleable\"><input class=\"sk-toggleable__control sk-hidden--visually\" id=\"sk-estimator-id-5\" type=\"checkbox\" checked><label for=\"sk-estimator-id-5\" class=\"sk-toggleable__label sk-toggleable__label-arrow\">KNeighborsClassifier</label><div class=\"sk-toggleable__content\"><pre>KNeighborsClassifier(n_neighbors=19)</pre></div></div></div></div></div>"
            ]
          },
          "metadata": {},
          "execution_count": 13
        }
      ]
    },
    {
      "cell_type": "code",
      "source": [
        "print('Train AUROC', compute_auroc(knn_best, train_X, train_y))\n",
        "print('Validation AUROC', compute_auroc(knn_best, val_X, val_y))"
      ],
      "metadata": {
        "colab": {
          "base_uri": "https://localhost:8080/"
        },
        "id": "0bkZWIgE9Tlf",
        "outputId": "059dc578-2411-4814-952b-7d17464b22bd"
      },
      "execution_count": 14,
      "outputs": [
        {
          "output_type": "stream",
          "name": "stdout",
          "text": [
            "Train AUROC 0.9227310044165035\n",
            "Validation AUROC 0.8908141847863366\n"
          ]
        }
      ]
    },
    {
      "cell_type": "markdown",
      "source": [
        "Ця модель видає суттєво кращий результат на валідаційних даних в порівнянні з першою, але дерево прийняття рішень працювало ще краще."
      ],
      "metadata": {
        "id": "L6PSVWlrArry"
      }
    },
    {
      "cell_type": "markdown",
      "source": [
        "3. Виконайте пошук оптимальних гіперпараметрів для `DecisionTreeClassifier` з `GridSearchCV` за сіткою параметрів\n",
        "  - `max_depth` від 1 до 20 з кроком 2\n",
        "  - `max_leaf_nodes` від 2 до 10 з кроком 1\n",
        "\n",
        "  Обовʼязково при цьому ініціюйте модель з фіксацією `random_seed`.\n",
        "\n",
        "  Поставте кросвалідацію на 3 фолди, `scoring='roc_auc'`, та виміряйте, скільки часу потребує пошук оптимальних гіперпараметрів.\n",
        "\n",
        "  Після успішного завершення пошуку оптимальних гіперпараметрів\n",
        "    - виведіть найкращі значення параметра\n",
        "    - збережіть в окрему змінну `dt_best` найкращу модель, знайдену з `GridSearchCV`\n",
        "    - оцініть якість передбачень  `dt_best` на тренувальній і валідаційній вибірці з допомогою AUROC.\n",
        "    - зробіть висновок про якість моделі. Чи ця модель краща за ту, що ви знайшли вручну?"
      ],
      "metadata": {
        "id": "Vg77SVWrBBmU"
      }
    },
    {
      "cell_type": "code",
      "source": [
        "max_depth_list = np.arange(1, 21, 2)\n",
        "max_leaf_nodes_list = np.arange(2, 11, 1)\n",
        "\n",
        "param_grid = {'max_depth': max_depth_list, 'max_leaf_nodes': max_leaf_nodes_list}\n",
        "\n",
        "grid_search_tree = GridSearchCV(DecisionTreeClassifier(random_state=42), param_grid, cv=3, scoring=\"roc_auc\")"
      ],
      "metadata": {
        "id": "RVg6jX-7IEwl"
      },
      "execution_count": 15,
      "outputs": []
    },
    {
      "cell_type": "code",
      "source": [
        "%%time\n",
        "grid_search_tree.fit(train_X, train_y)"
      ],
      "metadata": {
        "colab": {
          "base_uri": "https://localhost:8080/",
          "height": 150
        },
        "id": "2EuoaeYKSrJ5",
        "outputId": "a27231e8-cea4-4376-cb7b-c5fd714eaa3b"
      },
      "execution_count": 16,
      "outputs": [
        {
          "output_type": "stream",
          "name": "stdout",
          "text": [
            "CPU times: user 6.88 s, sys: 17.3 ms, total: 6.9 s\n",
            "Wall time: 7 s\n"
          ]
        },
        {
          "output_type": "execute_result",
          "data": {
            "text/plain": [
              "GridSearchCV(cv=3, estimator=DecisionTreeClassifier(random_state=42),\n",
              "             param_grid={'max_depth': array([ 1,  3,  5,  7,  9, 11, 13, 15, 17, 19]),\n",
              "                         'max_leaf_nodes': array([ 2,  3,  4,  5,  6,  7,  8,  9, 10])},\n",
              "             scoring='roc_auc')"
            ],
            "text/html": [
              "<style>#sk-container-id-4 {color: black;background-color: white;}#sk-container-id-4 pre{padding: 0;}#sk-container-id-4 div.sk-toggleable {background-color: white;}#sk-container-id-4 label.sk-toggleable__label {cursor: pointer;display: block;width: 100%;margin-bottom: 0;padding: 0.3em;box-sizing: border-box;text-align: center;}#sk-container-id-4 label.sk-toggleable__label-arrow:before {content: \"▸\";float: left;margin-right: 0.25em;color: #696969;}#sk-container-id-4 label.sk-toggleable__label-arrow:hover:before {color: black;}#sk-container-id-4 div.sk-estimator:hover label.sk-toggleable__label-arrow:before {color: black;}#sk-container-id-4 div.sk-toggleable__content {max-height: 0;max-width: 0;overflow: hidden;text-align: left;background-color: #f0f8ff;}#sk-container-id-4 div.sk-toggleable__content pre {margin: 0.2em;color: black;border-radius: 0.25em;background-color: #f0f8ff;}#sk-container-id-4 input.sk-toggleable__control:checked~div.sk-toggleable__content {max-height: 200px;max-width: 100%;overflow: auto;}#sk-container-id-4 input.sk-toggleable__control:checked~label.sk-toggleable__label-arrow:before {content: \"▾\";}#sk-container-id-4 div.sk-estimator input.sk-toggleable__control:checked~label.sk-toggleable__label {background-color: #d4ebff;}#sk-container-id-4 div.sk-label input.sk-toggleable__control:checked~label.sk-toggleable__label {background-color: #d4ebff;}#sk-container-id-4 input.sk-hidden--visually {border: 0;clip: rect(1px 1px 1px 1px);clip: rect(1px, 1px, 1px, 1px);height: 1px;margin: -1px;overflow: hidden;padding: 0;position: absolute;width: 1px;}#sk-container-id-4 div.sk-estimator {font-family: monospace;background-color: #f0f8ff;border: 1px dotted black;border-radius: 0.25em;box-sizing: border-box;margin-bottom: 0.5em;}#sk-container-id-4 div.sk-estimator:hover {background-color: #d4ebff;}#sk-container-id-4 div.sk-parallel-item::after {content: \"\";width: 100%;border-bottom: 1px solid gray;flex-grow: 1;}#sk-container-id-4 div.sk-label:hover label.sk-toggleable__label {background-color: #d4ebff;}#sk-container-id-4 div.sk-serial::before {content: \"\";position: absolute;border-left: 1px solid gray;box-sizing: border-box;top: 0;bottom: 0;left: 50%;z-index: 0;}#sk-container-id-4 div.sk-serial {display: flex;flex-direction: column;align-items: center;background-color: white;padding-right: 0.2em;padding-left: 0.2em;position: relative;}#sk-container-id-4 div.sk-item {position: relative;z-index: 1;}#sk-container-id-4 div.sk-parallel {display: flex;align-items: stretch;justify-content: center;background-color: white;position: relative;}#sk-container-id-4 div.sk-item::before, #sk-container-id-4 div.sk-parallel-item::before {content: \"\";position: absolute;border-left: 1px solid gray;box-sizing: border-box;top: 0;bottom: 0;left: 50%;z-index: -1;}#sk-container-id-4 div.sk-parallel-item {display: flex;flex-direction: column;z-index: 1;position: relative;background-color: white;}#sk-container-id-4 div.sk-parallel-item:first-child::after {align-self: flex-end;width: 50%;}#sk-container-id-4 div.sk-parallel-item:last-child::after {align-self: flex-start;width: 50%;}#sk-container-id-4 div.sk-parallel-item:only-child::after {width: 0;}#sk-container-id-4 div.sk-dashed-wrapped {border: 1px dashed gray;margin: 0 0.4em 0.5em 0.4em;box-sizing: border-box;padding-bottom: 0.4em;background-color: white;}#sk-container-id-4 div.sk-label label {font-family: monospace;font-weight: bold;display: inline-block;line-height: 1.2em;}#sk-container-id-4 div.sk-label-container {text-align: center;}#sk-container-id-4 div.sk-container {/* jupyter's `normalize.less` sets `[hidden] { display: none; }` but bootstrap.min.css set `[hidden] { display: none !important; }` so we also need the `!important` here to be able to override the default hidden behavior on the sphinx rendered scikit-learn.org. See: https://github.com/scikit-learn/scikit-learn/issues/21755 */display: inline-block !important;position: relative;}#sk-container-id-4 div.sk-text-repr-fallback {display: none;}</style><div id=\"sk-container-id-4\" class=\"sk-top-container\"><div class=\"sk-text-repr-fallback\"><pre>GridSearchCV(cv=3, estimator=DecisionTreeClassifier(random_state=42),\n",
              "             param_grid={&#x27;max_depth&#x27;: array([ 1,  3,  5,  7,  9, 11, 13, 15, 17, 19]),\n",
              "                         &#x27;max_leaf_nodes&#x27;: array([ 2,  3,  4,  5,  6,  7,  8,  9, 10])},\n",
              "             scoring=&#x27;roc_auc&#x27;)</pre><b>In a Jupyter environment, please rerun this cell to show the HTML representation or trust the notebook. <br />On GitHub, the HTML representation is unable to render, please try loading this page with nbviewer.org.</b></div><div class=\"sk-container\" hidden><div class=\"sk-item sk-dashed-wrapped\"><div class=\"sk-label-container\"><div class=\"sk-label sk-toggleable\"><input class=\"sk-toggleable__control sk-hidden--visually\" id=\"sk-estimator-id-6\" type=\"checkbox\" ><label for=\"sk-estimator-id-6\" class=\"sk-toggleable__label sk-toggleable__label-arrow\">GridSearchCV</label><div class=\"sk-toggleable__content\"><pre>GridSearchCV(cv=3, estimator=DecisionTreeClassifier(random_state=42),\n",
              "             param_grid={&#x27;max_depth&#x27;: array([ 1,  3,  5,  7,  9, 11, 13, 15, 17, 19]),\n",
              "                         &#x27;max_leaf_nodes&#x27;: array([ 2,  3,  4,  5,  6,  7,  8,  9, 10])},\n",
              "             scoring=&#x27;roc_auc&#x27;)</pre></div></div></div><div class=\"sk-parallel\"><div class=\"sk-parallel-item\"><div class=\"sk-item\"><div class=\"sk-label-container\"><div class=\"sk-label sk-toggleable\"><input class=\"sk-toggleable__control sk-hidden--visually\" id=\"sk-estimator-id-7\" type=\"checkbox\" ><label for=\"sk-estimator-id-7\" class=\"sk-toggleable__label sk-toggleable__label-arrow\">estimator: DecisionTreeClassifier</label><div class=\"sk-toggleable__content\"><pre>DecisionTreeClassifier(random_state=42)</pre></div></div></div><div class=\"sk-serial\"><div class=\"sk-item\"><div class=\"sk-estimator sk-toggleable\"><input class=\"sk-toggleable__control sk-hidden--visually\" id=\"sk-estimator-id-8\" type=\"checkbox\" ><label for=\"sk-estimator-id-8\" class=\"sk-toggleable__label sk-toggleable__label-arrow\">DecisionTreeClassifier</label><div class=\"sk-toggleable__content\"><pre>DecisionTreeClassifier(random_state=42)</pre></div></div></div></div></div></div></div></div></div></div>"
            ]
          },
          "metadata": {},
          "execution_count": 16
        }
      ]
    },
    {
      "cell_type": "code",
      "source": [
        "grid_search_tree.best_params_, grid_search_tree.best_score_"
      ],
      "metadata": {
        "colab": {
          "base_uri": "https://localhost:8080/"
        },
        "id": "6kb_fhfqTA1S",
        "outputId": "bf052299-dba3-498a-fc74-1eb127974a05"
      },
      "execution_count": 18,
      "outputs": [
        {
          "output_type": "execute_result",
          "data": {
            "text/plain": [
              "({'max_depth': 5, 'max_leaf_nodes': 10}, 0.9013929183420709)"
            ]
          },
          "metadata": {},
          "execution_count": 18
        }
      ]
    },
    {
      "cell_type": "code",
      "source": [
        "dt_best = grid_search_tree.best_estimator_\n",
        "dt_best.fit(train_X, train_y)"
      ],
      "metadata": {
        "colab": {
          "base_uri": "https://localhost:8080/",
          "height": 74
        },
        "id": "g1g8gvNKTE71",
        "outputId": "9bc467a0-08c7-46f9-ff13-2fb881354fc0"
      },
      "execution_count": 19,
      "outputs": [
        {
          "output_type": "execute_result",
          "data": {
            "text/plain": [
              "DecisionTreeClassifier(max_depth=5, max_leaf_nodes=10, random_state=42)"
            ],
            "text/html": [
              "<style>#sk-container-id-5 {color: black;background-color: white;}#sk-container-id-5 pre{padding: 0;}#sk-container-id-5 div.sk-toggleable {background-color: white;}#sk-container-id-5 label.sk-toggleable__label {cursor: pointer;display: block;width: 100%;margin-bottom: 0;padding: 0.3em;box-sizing: border-box;text-align: center;}#sk-container-id-5 label.sk-toggleable__label-arrow:before {content: \"▸\";float: left;margin-right: 0.25em;color: #696969;}#sk-container-id-5 label.sk-toggleable__label-arrow:hover:before {color: black;}#sk-container-id-5 div.sk-estimator:hover label.sk-toggleable__label-arrow:before {color: black;}#sk-container-id-5 div.sk-toggleable__content {max-height: 0;max-width: 0;overflow: hidden;text-align: left;background-color: #f0f8ff;}#sk-container-id-5 div.sk-toggleable__content pre {margin: 0.2em;color: black;border-radius: 0.25em;background-color: #f0f8ff;}#sk-container-id-5 input.sk-toggleable__control:checked~div.sk-toggleable__content {max-height: 200px;max-width: 100%;overflow: auto;}#sk-container-id-5 input.sk-toggleable__control:checked~label.sk-toggleable__label-arrow:before {content: \"▾\";}#sk-container-id-5 div.sk-estimator input.sk-toggleable__control:checked~label.sk-toggleable__label {background-color: #d4ebff;}#sk-container-id-5 div.sk-label input.sk-toggleable__control:checked~label.sk-toggleable__label {background-color: #d4ebff;}#sk-container-id-5 input.sk-hidden--visually {border: 0;clip: rect(1px 1px 1px 1px);clip: rect(1px, 1px, 1px, 1px);height: 1px;margin: -1px;overflow: hidden;padding: 0;position: absolute;width: 1px;}#sk-container-id-5 div.sk-estimator {font-family: monospace;background-color: #f0f8ff;border: 1px dotted black;border-radius: 0.25em;box-sizing: border-box;margin-bottom: 0.5em;}#sk-container-id-5 div.sk-estimator:hover {background-color: #d4ebff;}#sk-container-id-5 div.sk-parallel-item::after {content: \"\";width: 100%;border-bottom: 1px solid gray;flex-grow: 1;}#sk-container-id-5 div.sk-label:hover label.sk-toggleable__label {background-color: #d4ebff;}#sk-container-id-5 div.sk-serial::before {content: \"\";position: absolute;border-left: 1px solid gray;box-sizing: border-box;top: 0;bottom: 0;left: 50%;z-index: 0;}#sk-container-id-5 div.sk-serial {display: flex;flex-direction: column;align-items: center;background-color: white;padding-right: 0.2em;padding-left: 0.2em;position: relative;}#sk-container-id-5 div.sk-item {position: relative;z-index: 1;}#sk-container-id-5 div.sk-parallel {display: flex;align-items: stretch;justify-content: center;background-color: white;position: relative;}#sk-container-id-5 div.sk-item::before, #sk-container-id-5 div.sk-parallel-item::before {content: \"\";position: absolute;border-left: 1px solid gray;box-sizing: border-box;top: 0;bottom: 0;left: 50%;z-index: -1;}#sk-container-id-5 div.sk-parallel-item {display: flex;flex-direction: column;z-index: 1;position: relative;background-color: white;}#sk-container-id-5 div.sk-parallel-item:first-child::after {align-self: flex-end;width: 50%;}#sk-container-id-5 div.sk-parallel-item:last-child::after {align-self: flex-start;width: 50%;}#sk-container-id-5 div.sk-parallel-item:only-child::after {width: 0;}#sk-container-id-5 div.sk-dashed-wrapped {border: 1px dashed gray;margin: 0 0.4em 0.5em 0.4em;box-sizing: border-box;padding-bottom: 0.4em;background-color: white;}#sk-container-id-5 div.sk-label label {font-family: monospace;font-weight: bold;display: inline-block;line-height: 1.2em;}#sk-container-id-5 div.sk-label-container {text-align: center;}#sk-container-id-5 div.sk-container {/* jupyter's `normalize.less` sets `[hidden] { display: none; }` but bootstrap.min.css set `[hidden] { display: none !important; }` so we also need the `!important` here to be able to override the default hidden behavior on the sphinx rendered scikit-learn.org. See: https://github.com/scikit-learn/scikit-learn/issues/21755 */display: inline-block !important;position: relative;}#sk-container-id-5 div.sk-text-repr-fallback {display: none;}</style><div id=\"sk-container-id-5\" class=\"sk-top-container\"><div class=\"sk-text-repr-fallback\"><pre>DecisionTreeClassifier(max_depth=5, max_leaf_nodes=10, random_state=42)</pre><b>In a Jupyter environment, please rerun this cell to show the HTML representation or trust the notebook. <br />On GitHub, the HTML representation is unable to render, please try loading this page with nbviewer.org.</b></div><div class=\"sk-container\" hidden><div class=\"sk-item\"><div class=\"sk-estimator sk-toggleable\"><input class=\"sk-toggleable__control sk-hidden--visually\" id=\"sk-estimator-id-9\" type=\"checkbox\" checked><label for=\"sk-estimator-id-9\" class=\"sk-toggleable__label sk-toggleable__label-arrow\">DecisionTreeClassifier</label><div class=\"sk-toggleable__content\"><pre>DecisionTreeClassifier(max_depth=5, max_leaf_nodes=10, random_state=42)</pre></div></div></div></div></div>"
            ]
          },
          "metadata": {},
          "execution_count": 19
        }
      ]
    },
    {
      "cell_type": "code",
      "source": [
        "print('Train AUROC', compute_auroc(dt_best, train_X, train_y))\n",
        "print('Validation AUROC', compute_auroc(dt_best, val_X, val_y))"
      ],
      "metadata": {
        "colab": {
          "base_uri": "https://localhost:8080/"
        },
        "id": "hquwieBoTJso",
        "outputId": "bc7cf61c-ac15-4c6d-aef9-372c1f9acb81"
      },
      "execution_count": 20,
      "outputs": [
        {
          "output_type": "stream",
          "name": "stdout",
          "text": [
            "Train AUROC 0.9014754782174744\n",
            "Validation AUROC 0.9002184649152891\n"
          ]
        }
      ]
    },
    {
      "cell_type": "markdown",
      "source": [
        "Модель має хороші і дуже подібні результати на тренувальних і валідаційних даних, що свідчить про те, що вона добре генералізує на нових, невідомих даних, і що вона не просто запам’ятала навчальні дані, але й ефективно вивчила базові закономірності в них.\n",
        "\n",
        "В попередньому дз я вручну шукала параметри в дещо іншому діапазоні значень і найкращий результат дала комбінація max_depth: 8, max_leaf_nodes:47 з AUROC на валідаційному сеті 0.9249."
      ],
      "metadata": {
        "id": "qx3Fh_5C4mPD"
      }
    },
    {
      "cell_type": "markdown",
      "source": [
        "4. Виконайте пошук оптимальних гіперпараметрів для `DecisionTreeClassifier` з `RandomizedSearchCV` за заданою сіткою параметрів і кількість ітерацій 40.\n",
        "\n",
        "  Поставте кросвалідацію на 3 фолди, `scoring='roc_auc'`, зафіксуйте `random_seed` процедури крос валідації та виміряйте, скільки часу потребує пошук оптимальних гіперпараметрів.\n",
        "\n",
        "  Після успішного завершення пошуку оптимальних гіперпараметрів\n",
        "    - виведіть найкращі значення параметра\n",
        "    - збережіть в окрему змінну `dt_random_search_best` найкращу модель, знайдену з `RandomizedSearchCV`\n",
        "    - оцініть якість передбачень  `dt_random_search_best` на тренувальній і валідаційній вибірці з допомогою AUROC.\n",
        "    - зробіть висновок про якість моделі. Чи ця модель краща за ту, що ви знайшли з `GridSearch`?\n",
        "    - проаналізуйте параметри `dt_random_search_best` і порівняйте з параметрами `dt_best` - яку бачите відмінність? Ця вправа потрібна аби зрозуміти, як різні налаштування `DecisionTreeClassifier` впливають на якість моделі."
      ],
      "metadata": {
        "id": "nCnkGD_sEW1i"
      }
    },
    {
      "cell_type": "code",
      "source": [
        "params_dt = {\n",
        "    'criterion': ['gini', 'entropy'],\n",
        "    'splitter': ['best', 'random'],\n",
        "    'max_depth': np.arange(1, 20),\n",
        "    'max_leaf_nodes': np.arange(2, 20),\n",
        "    'min_samples_split': [2, 5, 10, 20],\n",
        "    'min_samples_leaf': [1, 2, 4, 8],\n",
        "    'max_features': [None, 'sqrt', 'log2']\n",
        "}\n",
        "\n",
        "cv_strategy = StratifiedKFold(n_splits=3, shuffle=True, random_state=42)"
      ],
      "metadata": {
        "id": "665uQ3NdIG0s"
      },
      "execution_count": 39,
      "outputs": []
    },
    {
      "cell_type": "code",
      "source": [
        "random_search_tree = RandomizedSearchCV(\n",
        "    DecisionTreeClassifier(random_state=42),\n",
        "    params_dt,\n",
        "    n_iter=40,\n",
        "    cv=cv_strategy,\n",
        "    scoring=\"roc_auc\",\n",
        "    random_state=42,\n",
        "    refit=True\n",
        ")"
      ],
      "metadata": {
        "id": "MyHVD-R0IXqv"
      },
      "execution_count": 40,
      "outputs": []
    },
    {
      "cell_type": "code",
      "source": [
        "%%time\n",
        "random_search_tree.fit(train_X, train_y)"
      ],
      "metadata": {
        "colab": {
          "base_uri": "https://localhost:8080/",
          "height": 150
        },
        "id": "6PrBS--EVkKL",
        "outputId": "4c65237d-9038-48de-c98d-1a581f6758dd"
      },
      "execution_count": 41,
      "outputs": [
        {
          "output_type": "stream",
          "name": "stdout",
          "text": [
            "CPU times: user 1.97 s, sys: 7.73 ms, total: 1.98 s\n",
            "Wall time: 1.98 s\n"
          ]
        },
        {
          "output_type": "execute_result",
          "data": {
            "text/plain": [
              "RandomizedSearchCV(cv=StratifiedKFold(n_splits=3, random_state=42, shuffle=True),\n",
              "                   estimator=DecisionTreeClassifier(random_state=42), n_iter=40,\n",
              "                   param_distributions={'criterion': ['gini', 'entropy'],\n",
              "                                        'max_depth': array([ 1,  2,  3,  4,  5,  6,  7,  8,  9, 10, 11, 12, 13, 14, 15, 16, 17,\n",
              "       18, 19]),\n",
              "                                        'max_features': [None, 'sqrt', 'log2'],\n",
              "                                        'max_leaf_nodes': array([ 2,  3,  4,  5,  6,  7,  8,  9, 10, 11, 12, 13, 14, 15, 16, 17, 18,\n",
              "       19]),\n",
              "                                        'min_samples_leaf': [1, 2, 4, 8],\n",
              "                                        'min_samples_split': [2, 5, 10, 20],\n",
              "                                        'splitter': ['best', 'random']},\n",
              "                   random_state=42, scoring='roc_auc')"
            ],
            "text/html": [
              "<style>#sk-container-id-9 {color: black;background-color: white;}#sk-container-id-9 pre{padding: 0;}#sk-container-id-9 div.sk-toggleable {background-color: white;}#sk-container-id-9 label.sk-toggleable__label {cursor: pointer;display: block;width: 100%;margin-bottom: 0;padding: 0.3em;box-sizing: border-box;text-align: center;}#sk-container-id-9 label.sk-toggleable__label-arrow:before {content: \"▸\";float: left;margin-right: 0.25em;color: #696969;}#sk-container-id-9 label.sk-toggleable__label-arrow:hover:before {color: black;}#sk-container-id-9 div.sk-estimator:hover label.sk-toggleable__label-arrow:before {color: black;}#sk-container-id-9 div.sk-toggleable__content {max-height: 0;max-width: 0;overflow: hidden;text-align: left;background-color: #f0f8ff;}#sk-container-id-9 div.sk-toggleable__content pre {margin: 0.2em;color: black;border-radius: 0.25em;background-color: #f0f8ff;}#sk-container-id-9 input.sk-toggleable__control:checked~div.sk-toggleable__content {max-height: 200px;max-width: 100%;overflow: auto;}#sk-container-id-9 input.sk-toggleable__control:checked~label.sk-toggleable__label-arrow:before {content: \"▾\";}#sk-container-id-9 div.sk-estimator input.sk-toggleable__control:checked~label.sk-toggleable__label {background-color: #d4ebff;}#sk-container-id-9 div.sk-label input.sk-toggleable__control:checked~label.sk-toggleable__label {background-color: #d4ebff;}#sk-container-id-9 input.sk-hidden--visually {border: 0;clip: rect(1px 1px 1px 1px);clip: rect(1px, 1px, 1px, 1px);height: 1px;margin: -1px;overflow: hidden;padding: 0;position: absolute;width: 1px;}#sk-container-id-9 div.sk-estimator {font-family: monospace;background-color: #f0f8ff;border: 1px dotted black;border-radius: 0.25em;box-sizing: border-box;margin-bottom: 0.5em;}#sk-container-id-9 div.sk-estimator:hover {background-color: #d4ebff;}#sk-container-id-9 div.sk-parallel-item::after {content: \"\";width: 100%;border-bottom: 1px solid gray;flex-grow: 1;}#sk-container-id-9 div.sk-label:hover label.sk-toggleable__label {background-color: #d4ebff;}#sk-container-id-9 div.sk-serial::before {content: \"\";position: absolute;border-left: 1px solid gray;box-sizing: border-box;top: 0;bottom: 0;left: 50%;z-index: 0;}#sk-container-id-9 div.sk-serial {display: flex;flex-direction: column;align-items: center;background-color: white;padding-right: 0.2em;padding-left: 0.2em;position: relative;}#sk-container-id-9 div.sk-item {position: relative;z-index: 1;}#sk-container-id-9 div.sk-parallel {display: flex;align-items: stretch;justify-content: center;background-color: white;position: relative;}#sk-container-id-9 div.sk-item::before, #sk-container-id-9 div.sk-parallel-item::before {content: \"\";position: absolute;border-left: 1px solid gray;box-sizing: border-box;top: 0;bottom: 0;left: 50%;z-index: -1;}#sk-container-id-9 div.sk-parallel-item {display: flex;flex-direction: column;z-index: 1;position: relative;background-color: white;}#sk-container-id-9 div.sk-parallel-item:first-child::after {align-self: flex-end;width: 50%;}#sk-container-id-9 div.sk-parallel-item:last-child::after {align-self: flex-start;width: 50%;}#sk-container-id-9 div.sk-parallel-item:only-child::after {width: 0;}#sk-container-id-9 div.sk-dashed-wrapped {border: 1px dashed gray;margin: 0 0.4em 0.5em 0.4em;box-sizing: border-box;padding-bottom: 0.4em;background-color: white;}#sk-container-id-9 div.sk-label label {font-family: monospace;font-weight: bold;display: inline-block;line-height: 1.2em;}#sk-container-id-9 div.sk-label-container {text-align: center;}#sk-container-id-9 div.sk-container {/* jupyter's `normalize.less` sets `[hidden] { display: none; }` but bootstrap.min.css set `[hidden] { display: none !important; }` so we also need the `!important` here to be able to override the default hidden behavior on the sphinx rendered scikit-learn.org. See: https://github.com/scikit-learn/scikit-learn/issues/21755 */display: inline-block !important;position: relative;}#sk-container-id-9 div.sk-text-repr-fallback {display: none;}</style><div id=\"sk-container-id-9\" class=\"sk-top-container\"><div class=\"sk-text-repr-fallback\"><pre>RandomizedSearchCV(cv=StratifiedKFold(n_splits=3, random_state=42, shuffle=True),\n",
              "                   estimator=DecisionTreeClassifier(random_state=42), n_iter=40,\n",
              "                   param_distributions={&#x27;criterion&#x27;: [&#x27;gini&#x27;, &#x27;entropy&#x27;],\n",
              "                                        &#x27;max_depth&#x27;: array([ 1,  2,  3,  4,  5,  6,  7,  8,  9, 10, 11, 12, 13, 14, 15, 16, 17,\n",
              "       18, 19]),\n",
              "                                        &#x27;max_features&#x27;: [None, &#x27;sqrt&#x27;, &#x27;log2&#x27;],\n",
              "                                        &#x27;max_leaf_nodes&#x27;: array([ 2,  3,  4,  5,  6,  7,  8,  9, 10, 11, 12, 13, 14, 15, 16, 17, 18,\n",
              "       19]),\n",
              "                                        &#x27;min_samples_leaf&#x27;: [1, 2, 4, 8],\n",
              "                                        &#x27;min_samples_split&#x27;: [2, 5, 10, 20],\n",
              "                                        &#x27;splitter&#x27;: [&#x27;best&#x27;, &#x27;random&#x27;]},\n",
              "                   random_state=42, scoring=&#x27;roc_auc&#x27;)</pre><b>In a Jupyter environment, please rerun this cell to show the HTML representation or trust the notebook. <br />On GitHub, the HTML representation is unable to render, please try loading this page with nbviewer.org.</b></div><div class=\"sk-container\" hidden><div class=\"sk-item sk-dashed-wrapped\"><div class=\"sk-label-container\"><div class=\"sk-label sk-toggleable\"><input class=\"sk-toggleable__control sk-hidden--visually\" id=\"sk-estimator-id-17\" type=\"checkbox\" ><label for=\"sk-estimator-id-17\" class=\"sk-toggleable__label sk-toggleable__label-arrow\">RandomizedSearchCV</label><div class=\"sk-toggleable__content\"><pre>RandomizedSearchCV(cv=StratifiedKFold(n_splits=3, random_state=42, shuffle=True),\n",
              "                   estimator=DecisionTreeClassifier(random_state=42), n_iter=40,\n",
              "                   param_distributions={&#x27;criterion&#x27;: [&#x27;gini&#x27;, &#x27;entropy&#x27;],\n",
              "                                        &#x27;max_depth&#x27;: array([ 1,  2,  3,  4,  5,  6,  7,  8,  9, 10, 11, 12, 13, 14, 15, 16, 17,\n",
              "       18, 19]),\n",
              "                                        &#x27;max_features&#x27;: [None, &#x27;sqrt&#x27;, &#x27;log2&#x27;],\n",
              "                                        &#x27;max_leaf_nodes&#x27;: array([ 2,  3,  4,  5,  6,  7,  8,  9, 10, 11, 12, 13, 14, 15, 16, 17, 18,\n",
              "       19]),\n",
              "                                        &#x27;min_samples_leaf&#x27;: [1, 2, 4, 8],\n",
              "                                        &#x27;min_samples_split&#x27;: [2, 5, 10, 20],\n",
              "                                        &#x27;splitter&#x27;: [&#x27;best&#x27;, &#x27;random&#x27;]},\n",
              "                   random_state=42, scoring=&#x27;roc_auc&#x27;)</pre></div></div></div><div class=\"sk-parallel\"><div class=\"sk-parallel-item\"><div class=\"sk-item\"><div class=\"sk-label-container\"><div class=\"sk-label sk-toggleable\"><input class=\"sk-toggleable__control sk-hidden--visually\" id=\"sk-estimator-id-18\" type=\"checkbox\" ><label for=\"sk-estimator-id-18\" class=\"sk-toggleable__label sk-toggleable__label-arrow\">estimator: DecisionTreeClassifier</label><div class=\"sk-toggleable__content\"><pre>DecisionTreeClassifier(random_state=42)</pre></div></div></div><div class=\"sk-serial\"><div class=\"sk-item\"><div class=\"sk-estimator sk-toggleable\"><input class=\"sk-toggleable__control sk-hidden--visually\" id=\"sk-estimator-id-19\" type=\"checkbox\" ><label for=\"sk-estimator-id-19\" class=\"sk-toggleable__label sk-toggleable__label-arrow\">DecisionTreeClassifier</label><div class=\"sk-toggleable__content\"><pre>DecisionTreeClassifier(random_state=42)</pre></div></div></div></div></div></div></div></div></div></div>"
            ]
          },
          "metadata": {},
          "execution_count": 41
        }
      ]
    },
    {
      "cell_type": "code",
      "source": [
        "random_search_tree.best_params_, random_search_tree.best_score_"
      ],
      "metadata": {
        "colab": {
          "base_uri": "https://localhost:8080/"
        },
        "id": "STcTgM0lVnUQ",
        "outputId": "42b64bd2-21ac-4644-d4b6-23fc7dad1f85"
      },
      "execution_count": 42,
      "outputs": [
        {
          "output_type": "execute_result",
          "data": {
            "text/plain": [
              "({'splitter': 'best',\n",
              "  'min_samples_split': 20,\n",
              "  'min_samples_leaf': 2,\n",
              "  'max_leaf_nodes': 14,\n",
              "  'max_features': None,\n",
              "  'max_depth': 16,\n",
              "  'criterion': 'entropy'},\n",
              " 0.9102569441552492)"
            ]
          },
          "metadata": {},
          "execution_count": 42
        }
      ]
    },
    {
      "cell_type": "code",
      "source": [
        "dt_random_search_best = random_search_tree.best_estimator_\n",
        "dt_random_search_best.fit(train_X, train_y)"
      ],
      "metadata": {
        "colab": {
          "base_uri": "https://localhost:8080/",
          "height": 109
        },
        "id": "Pjh2Ok93V_3d",
        "outputId": "49d936ad-1f4f-4048-8bb2-4ece3eeb7d80"
      },
      "execution_count": 43,
      "outputs": [
        {
          "output_type": "execute_result",
          "data": {
            "text/plain": [
              "DecisionTreeClassifier(criterion='entropy', max_depth=16, max_leaf_nodes=14,\n",
              "                       min_samples_leaf=2, min_samples_split=20,\n",
              "                       random_state=42)"
            ],
            "text/html": [
              "<style>#sk-container-id-10 {color: black;background-color: white;}#sk-container-id-10 pre{padding: 0;}#sk-container-id-10 div.sk-toggleable {background-color: white;}#sk-container-id-10 label.sk-toggleable__label {cursor: pointer;display: block;width: 100%;margin-bottom: 0;padding: 0.3em;box-sizing: border-box;text-align: center;}#sk-container-id-10 label.sk-toggleable__label-arrow:before {content: \"▸\";float: left;margin-right: 0.25em;color: #696969;}#sk-container-id-10 label.sk-toggleable__label-arrow:hover:before {color: black;}#sk-container-id-10 div.sk-estimator:hover label.sk-toggleable__label-arrow:before {color: black;}#sk-container-id-10 div.sk-toggleable__content {max-height: 0;max-width: 0;overflow: hidden;text-align: left;background-color: #f0f8ff;}#sk-container-id-10 div.sk-toggleable__content pre {margin: 0.2em;color: black;border-radius: 0.25em;background-color: #f0f8ff;}#sk-container-id-10 input.sk-toggleable__control:checked~div.sk-toggleable__content {max-height: 200px;max-width: 100%;overflow: auto;}#sk-container-id-10 input.sk-toggleable__control:checked~label.sk-toggleable__label-arrow:before {content: \"▾\";}#sk-container-id-10 div.sk-estimator input.sk-toggleable__control:checked~label.sk-toggleable__label {background-color: #d4ebff;}#sk-container-id-10 div.sk-label input.sk-toggleable__control:checked~label.sk-toggleable__label {background-color: #d4ebff;}#sk-container-id-10 input.sk-hidden--visually {border: 0;clip: rect(1px 1px 1px 1px);clip: rect(1px, 1px, 1px, 1px);height: 1px;margin: -1px;overflow: hidden;padding: 0;position: absolute;width: 1px;}#sk-container-id-10 div.sk-estimator {font-family: monospace;background-color: #f0f8ff;border: 1px dotted black;border-radius: 0.25em;box-sizing: border-box;margin-bottom: 0.5em;}#sk-container-id-10 div.sk-estimator:hover {background-color: #d4ebff;}#sk-container-id-10 div.sk-parallel-item::after {content: \"\";width: 100%;border-bottom: 1px solid gray;flex-grow: 1;}#sk-container-id-10 div.sk-label:hover label.sk-toggleable__label {background-color: #d4ebff;}#sk-container-id-10 div.sk-serial::before {content: \"\";position: absolute;border-left: 1px solid gray;box-sizing: border-box;top: 0;bottom: 0;left: 50%;z-index: 0;}#sk-container-id-10 div.sk-serial {display: flex;flex-direction: column;align-items: center;background-color: white;padding-right: 0.2em;padding-left: 0.2em;position: relative;}#sk-container-id-10 div.sk-item {position: relative;z-index: 1;}#sk-container-id-10 div.sk-parallel {display: flex;align-items: stretch;justify-content: center;background-color: white;position: relative;}#sk-container-id-10 div.sk-item::before, #sk-container-id-10 div.sk-parallel-item::before {content: \"\";position: absolute;border-left: 1px solid gray;box-sizing: border-box;top: 0;bottom: 0;left: 50%;z-index: -1;}#sk-container-id-10 div.sk-parallel-item {display: flex;flex-direction: column;z-index: 1;position: relative;background-color: white;}#sk-container-id-10 div.sk-parallel-item:first-child::after {align-self: flex-end;width: 50%;}#sk-container-id-10 div.sk-parallel-item:last-child::after {align-self: flex-start;width: 50%;}#sk-container-id-10 div.sk-parallel-item:only-child::after {width: 0;}#sk-container-id-10 div.sk-dashed-wrapped {border: 1px dashed gray;margin: 0 0.4em 0.5em 0.4em;box-sizing: border-box;padding-bottom: 0.4em;background-color: white;}#sk-container-id-10 div.sk-label label {font-family: monospace;font-weight: bold;display: inline-block;line-height: 1.2em;}#sk-container-id-10 div.sk-label-container {text-align: center;}#sk-container-id-10 div.sk-container {/* jupyter's `normalize.less` sets `[hidden] { display: none; }` but bootstrap.min.css set `[hidden] { display: none !important; }` so we also need the `!important` here to be able to override the default hidden behavior on the sphinx rendered scikit-learn.org. See: https://github.com/scikit-learn/scikit-learn/issues/21755 */display: inline-block !important;position: relative;}#sk-container-id-10 div.sk-text-repr-fallback {display: none;}</style><div id=\"sk-container-id-10\" class=\"sk-top-container\"><div class=\"sk-text-repr-fallback\"><pre>DecisionTreeClassifier(criterion=&#x27;entropy&#x27;, max_depth=16, max_leaf_nodes=14,\n",
              "                       min_samples_leaf=2, min_samples_split=20,\n",
              "                       random_state=42)</pre><b>In a Jupyter environment, please rerun this cell to show the HTML representation or trust the notebook. <br />On GitHub, the HTML representation is unable to render, please try loading this page with nbviewer.org.</b></div><div class=\"sk-container\" hidden><div class=\"sk-item\"><div class=\"sk-estimator sk-toggleable\"><input class=\"sk-toggleable__control sk-hidden--visually\" id=\"sk-estimator-id-20\" type=\"checkbox\" checked><label for=\"sk-estimator-id-20\" class=\"sk-toggleable__label sk-toggleable__label-arrow\">DecisionTreeClassifier</label><div class=\"sk-toggleable__content\"><pre>DecisionTreeClassifier(criterion=&#x27;entropy&#x27;, max_depth=16, max_leaf_nodes=14,\n",
              "                       min_samples_leaf=2, min_samples_split=20,\n",
              "                       random_state=42)</pre></div></div></div></div></div>"
            ]
          },
          "metadata": {},
          "execution_count": 43
        }
      ]
    },
    {
      "cell_type": "code",
      "source": [
        "print('Train AUROC', compute_auroc(dt_random_search_best, train_X, train_y))\n",
        "print('Validation AUROC', compute_auroc(dt_random_search_best, val_X, val_y))"
      ],
      "metadata": {
        "colab": {
          "base_uri": "https://localhost:8080/"
        },
        "id": "enZhbuQYWJGy",
        "outputId": "d1363597-29c8-467f-8a2c-c1ba51238a72"
      },
      "execution_count": 55,
      "outputs": [
        {
          "output_type": "stream",
          "name": "stdout",
          "text": [
            "Train AUROC 0.9169275635848141\n",
            "Validation AUROC 0.9166204815145071\n"
          ]
        }
      ]
    },
    {
      "cell_type": "markdown",
      "source": [
        "Порівняння параметрів:"
      ],
      "metadata": {
        "id": "e2Gcz7Ml_xAb"
      }
    },
    {
      "cell_type": "code",
      "source": [
        "params_best = dt_best.get_params()\n",
        "params_random_search_best = dt_random_search_best.get_params()\n",
        "\n",
        "df_best = pd.DataFrame([params_best], index=['dt_best'])\n",
        "df_random_search_best = pd.DataFrame([params_random_search_best], index=['dt_random_search_best'])\n",
        "df_combined = pd.concat([df_best, df_random_search_best])\n",
        "\n",
        "df_combined"
      ],
      "metadata": {
        "colab": {
          "base_uri": "https://localhost:8080/",
          "height": 132
        },
        "id": "cE7jpBkIDuPA",
        "outputId": "e0d81c57-62d5-4192-d011-fe76f8d873e8"
      },
      "execution_count": 45,
      "outputs": [
        {
          "output_type": "execute_result",
          "data": {
            "text/plain": [
              "                       ccp_alpha class_weight criterion  max_depth  \\\n",
              "dt_best                      0.0         None      gini          5   \n",
              "dt_random_search_best        0.0         None   entropy         16   \n",
              "\n",
              "                      max_features  max_leaf_nodes  min_impurity_decrease  \\\n",
              "dt_best                       None              10                    0.0   \n",
              "dt_random_search_best         None              14                    0.0   \n",
              "\n",
              "                       min_samples_leaf  min_samples_split  \\\n",
              "dt_best                               1                  2   \n",
              "dt_random_search_best                 2                 20   \n",
              "\n",
              "                       min_weight_fraction_leaf  random_state splitter  \n",
              "dt_best                                     0.0            42     best  \n",
              "dt_random_search_best                       0.0            42     best  "
            ],
            "text/html": [
              "\n",
              "  <div id=\"df-7a78403a-8568-4427-908a-c6fd53949e93\" class=\"colab-df-container\">\n",
              "    <div>\n",
              "<style scoped>\n",
              "    .dataframe tbody tr th:only-of-type {\n",
              "        vertical-align: middle;\n",
              "    }\n",
              "\n",
              "    .dataframe tbody tr th {\n",
              "        vertical-align: top;\n",
              "    }\n",
              "\n",
              "    .dataframe thead th {\n",
              "        text-align: right;\n",
              "    }\n",
              "</style>\n",
              "<table border=\"1\" class=\"dataframe\">\n",
              "  <thead>\n",
              "    <tr style=\"text-align: right;\">\n",
              "      <th></th>\n",
              "      <th>ccp_alpha</th>\n",
              "      <th>class_weight</th>\n",
              "      <th>criterion</th>\n",
              "      <th>max_depth</th>\n",
              "      <th>max_features</th>\n",
              "      <th>max_leaf_nodes</th>\n",
              "      <th>min_impurity_decrease</th>\n",
              "      <th>min_samples_leaf</th>\n",
              "      <th>min_samples_split</th>\n",
              "      <th>min_weight_fraction_leaf</th>\n",
              "      <th>random_state</th>\n",
              "      <th>splitter</th>\n",
              "    </tr>\n",
              "  </thead>\n",
              "  <tbody>\n",
              "    <tr>\n",
              "      <th>dt_best</th>\n",
              "      <td>0.0</td>\n",
              "      <td>None</td>\n",
              "      <td>gini</td>\n",
              "      <td>5</td>\n",
              "      <td>None</td>\n",
              "      <td>10</td>\n",
              "      <td>0.0</td>\n",
              "      <td>1</td>\n",
              "      <td>2</td>\n",
              "      <td>0.0</td>\n",
              "      <td>42</td>\n",
              "      <td>best</td>\n",
              "    </tr>\n",
              "    <tr>\n",
              "      <th>dt_random_search_best</th>\n",
              "      <td>0.0</td>\n",
              "      <td>None</td>\n",
              "      <td>entropy</td>\n",
              "      <td>16</td>\n",
              "      <td>None</td>\n",
              "      <td>14</td>\n",
              "      <td>0.0</td>\n",
              "      <td>2</td>\n",
              "      <td>20</td>\n",
              "      <td>0.0</td>\n",
              "      <td>42</td>\n",
              "      <td>best</td>\n",
              "    </tr>\n",
              "  </tbody>\n",
              "</table>\n",
              "</div>\n",
              "    <div class=\"colab-df-buttons\">\n",
              "\n",
              "  <div class=\"colab-df-container\">\n",
              "    <button class=\"colab-df-convert\" onclick=\"convertToInteractive('df-7a78403a-8568-4427-908a-c6fd53949e93')\"\n",
              "            title=\"Convert this dataframe to an interactive table.\"\n",
              "            style=\"display:none;\">\n",
              "\n",
              "  <svg xmlns=\"http://www.w3.org/2000/svg\" height=\"24px\" viewBox=\"0 -960 960 960\">\n",
              "    <path d=\"M120-120v-720h720v720H120Zm60-500h600v-160H180v160Zm220 220h160v-160H400v160Zm0 220h160v-160H400v160ZM180-400h160v-160H180v160Zm440 0h160v-160H620v160ZM180-180h160v-160H180v160Zm440 0h160v-160H620v160Z\"/>\n",
              "  </svg>\n",
              "    </button>\n",
              "\n",
              "  <style>\n",
              "    .colab-df-container {\n",
              "      display:flex;\n",
              "      gap: 12px;\n",
              "    }\n",
              "\n",
              "    .colab-df-convert {\n",
              "      background-color: #E8F0FE;\n",
              "      border: none;\n",
              "      border-radius: 50%;\n",
              "      cursor: pointer;\n",
              "      display: none;\n",
              "      fill: #1967D2;\n",
              "      height: 32px;\n",
              "      padding: 0 0 0 0;\n",
              "      width: 32px;\n",
              "    }\n",
              "\n",
              "    .colab-df-convert:hover {\n",
              "      background-color: #E2EBFA;\n",
              "      box-shadow: 0px 1px 2px rgba(60, 64, 67, 0.3), 0px 1px 3px 1px rgba(60, 64, 67, 0.15);\n",
              "      fill: #174EA6;\n",
              "    }\n",
              "\n",
              "    .colab-df-buttons div {\n",
              "      margin-bottom: 4px;\n",
              "    }\n",
              "\n",
              "    [theme=dark] .colab-df-convert {\n",
              "      background-color: #3B4455;\n",
              "      fill: #D2E3FC;\n",
              "    }\n",
              "\n",
              "    [theme=dark] .colab-df-convert:hover {\n",
              "      background-color: #434B5C;\n",
              "      box-shadow: 0px 1px 3px 1px rgba(0, 0, 0, 0.15);\n",
              "      filter: drop-shadow(0px 1px 2px rgba(0, 0, 0, 0.3));\n",
              "      fill: #FFFFFF;\n",
              "    }\n",
              "  </style>\n",
              "\n",
              "    <script>\n",
              "      const buttonEl =\n",
              "        document.querySelector('#df-7a78403a-8568-4427-908a-c6fd53949e93 button.colab-df-convert');\n",
              "      buttonEl.style.display =\n",
              "        google.colab.kernel.accessAllowed ? 'block' : 'none';\n",
              "\n",
              "      async function convertToInteractive(key) {\n",
              "        const element = document.querySelector('#df-7a78403a-8568-4427-908a-c6fd53949e93');\n",
              "        const dataTable =\n",
              "          await google.colab.kernel.invokeFunction('convertToInteractive',\n",
              "                                                    [key], {});\n",
              "        if (!dataTable) return;\n",
              "\n",
              "        const docLinkHtml = 'Like what you see? Visit the ' +\n",
              "          '<a target=\"_blank\" href=https://colab.research.google.com/notebooks/data_table.ipynb>data table notebook</a>'\n",
              "          + ' to learn more about interactive tables.';\n",
              "        element.innerHTML = '';\n",
              "        dataTable['output_type'] = 'display_data';\n",
              "        await google.colab.output.renderOutput(dataTable, element);\n",
              "        const docLink = document.createElement('div');\n",
              "        docLink.innerHTML = docLinkHtml;\n",
              "        element.appendChild(docLink);\n",
              "      }\n",
              "    </script>\n",
              "  </div>\n",
              "\n",
              "\n",
              "<div id=\"df-6226aca8-f0c3-4719-b7c7-e0c2ef9fe7ef\">\n",
              "  <button class=\"colab-df-quickchart\" onclick=\"quickchart('df-6226aca8-f0c3-4719-b7c7-e0c2ef9fe7ef')\"\n",
              "            title=\"Suggest charts\"\n",
              "            style=\"display:none;\">\n",
              "\n",
              "<svg xmlns=\"http://www.w3.org/2000/svg\" height=\"24px\"viewBox=\"0 0 24 24\"\n",
              "     width=\"24px\">\n",
              "    <g>\n",
              "        <path d=\"M19 3H5c-1.1 0-2 .9-2 2v14c0 1.1.9 2 2 2h14c1.1 0 2-.9 2-2V5c0-1.1-.9-2-2-2zM9 17H7v-7h2v7zm4 0h-2V7h2v10zm4 0h-2v-4h2v4z\"/>\n",
              "    </g>\n",
              "</svg>\n",
              "  </button>\n",
              "\n",
              "<style>\n",
              "  .colab-df-quickchart {\n",
              "      --bg-color: #E8F0FE;\n",
              "      --fill-color: #1967D2;\n",
              "      --hover-bg-color: #E2EBFA;\n",
              "      --hover-fill-color: #174EA6;\n",
              "      --disabled-fill-color: #AAA;\n",
              "      --disabled-bg-color: #DDD;\n",
              "  }\n",
              "\n",
              "  [theme=dark] .colab-df-quickchart {\n",
              "      --bg-color: #3B4455;\n",
              "      --fill-color: #D2E3FC;\n",
              "      --hover-bg-color: #434B5C;\n",
              "      --hover-fill-color: #FFFFFF;\n",
              "      --disabled-bg-color: #3B4455;\n",
              "      --disabled-fill-color: #666;\n",
              "  }\n",
              "\n",
              "  .colab-df-quickchart {\n",
              "    background-color: var(--bg-color);\n",
              "    border: none;\n",
              "    border-radius: 50%;\n",
              "    cursor: pointer;\n",
              "    display: none;\n",
              "    fill: var(--fill-color);\n",
              "    height: 32px;\n",
              "    padding: 0;\n",
              "    width: 32px;\n",
              "  }\n",
              "\n",
              "  .colab-df-quickchart:hover {\n",
              "    background-color: var(--hover-bg-color);\n",
              "    box-shadow: 0 1px 2px rgba(60, 64, 67, 0.3), 0 1px 3px 1px rgba(60, 64, 67, 0.15);\n",
              "    fill: var(--button-hover-fill-color);\n",
              "  }\n",
              "\n",
              "  .colab-df-quickchart-complete:disabled,\n",
              "  .colab-df-quickchart-complete:disabled:hover {\n",
              "    background-color: var(--disabled-bg-color);\n",
              "    fill: var(--disabled-fill-color);\n",
              "    box-shadow: none;\n",
              "  }\n",
              "\n",
              "  .colab-df-spinner {\n",
              "    border: 2px solid var(--fill-color);\n",
              "    border-color: transparent;\n",
              "    border-bottom-color: var(--fill-color);\n",
              "    animation:\n",
              "      spin 1s steps(1) infinite;\n",
              "  }\n",
              "\n",
              "  @keyframes spin {\n",
              "    0% {\n",
              "      border-color: transparent;\n",
              "      border-bottom-color: var(--fill-color);\n",
              "      border-left-color: var(--fill-color);\n",
              "    }\n",
              "    20% {\n",
              "      border-color: transparent;\n",
              "      border-left-color: var(--fill-color);\n",
              "      border-top-color: var(--fill-color);\n",
              "    }\n",
              "    30% {\n",
              "      border-color: transparent;\n",
              "      border-left-color: var(--fill-color);\n",
              "      border-top-color: var(--fill-color);\n",
              "      border-right-color: var(--fill-color);\n",
              "    }\n",
              "    40% {\n",
              "      border-color: transparent;\n",
              "      border-right-color: var(--fill-color);\n",
              "      border-top-color: var(--fill-color);\n",
              "    }\n",
              "    60% {\n",
              "      border-color: transparent;\n",
              "      border-right-color: var(--fill-color);\n",
              "    }\n",
              "    80% {\n",
              "      border-color: transparent;\n",
              "      border-right-color: var(--fill-color);\n",
              "      border-bottom-color: var(--fill-color);\n",
              "    }\n",
              "    90% {\n",
              "      border-color: transparent;\n",
              "      border-bottom-color: var(--fill-color);\n",
              "    }\n",
              "  }\n",
              "</style>\n",
              "\n",
              "  <script>\n",
              "    async function quickchart(key) {\n",
              "      const quickchartButtonEl =\n",
              "        document.querySelector('#' + key + ' button');\n",
              "      quickchartButtonEl.disabled = true;  // To prevent multiple clicks.\n",
              "      quickchartButtonEl.classList.add('colab-df-spinner');\n",
              "      try {\n",
              "        const charts = await google.colab.kernel.invokeFunction(\n",
              "            'suggestCharts', [key], {});\n",
              "      } catch (error) {\n",
              "        console.error('Error during call to suggestCharts:', error);\n",
              "      }\n",
              "      quickchartButtonEl.classList.remove('colab-df-spinner');\n",
              "      quickchartButtonEl.classList.add('colab-df-quickchart-complete');\n",
              "    }\n",
              "    (() => {\n",
              "      let quickchartButtonEl =\n",
              "        document.querySelector('#df-6226aca8-f0c3-4719-b7c7-e0c2ef9fe7ef button');\n",
              "      quickchartButtonEl.style.display =\n",
              "        google.colab.kernel.accessAllowed ? 'block' : 'none';\n",
              "    })();\n",
              "  </script>\n",
              "</div>\n",
              "    </div>\n",
              "  </div>\n"
            ],
            "application/vnd.google.colaboratory.intrinsic+json": {
              "type": "dataframe",
              "variable_name": "df_combined",
              "repr_error": "Out of range float values are not JSON compliant: nan"
            }
          },
          "metadata": {},
          "execution_count": 45
        }
      ]
    },
    {
      "cell_type": "markdown",
      "source": [
        "Модель dt_random_search_best є більш складною (з max_depth 16 проти 5 у dt_best і max_leaf_nodes 14 проти 10), але при цьому вищі min_samples_split (20 проти 2) і min_samples_leaf (2 проти 1) допомагають боротись з перенавчанням, і успішно, адже бачимо, що незважаючи на доволі великі глибину і кількість leaf nodes, модель має дуже подібні значення auroc на тренувальних і валідаційних датасетах, а отже добре генералізує на нових даних. Модель dt_best є простішою, і має трохи гірший результат."
      ],
      "metadata": {
        "id": "aT9afVFe_1FJ"
      }
    },
    {
      "cell_type": "markdown",
      "source": [
        "5. Якщо у Вас вийшла метрика `AUROC` в цій серії експериментів - зробіть ще один `submission` на Kaggle і додайте код для цього і скріншот скора на публічному лідерборді нижче.\n",
        "\n",
        "  Сподіваюсь на цьому етапі ви вже відчули себе справжнім дослідником 😉"
      ],
      "metadata": {
        "id": "XArADR2CG8VK"
      }
    },
    {
      "cell_type": "markdown",
      "source": [
        "Трохи поекспериментую з іншими значеннями параметрів:"
      ],
      "metadata": {
        "id": "-aySHQYSNDQS"
      }
    },
    {
      "cell_type": "code",
      "source": [
        "params = {\n",
        "    'criterion': ['gini', 'entropy'],\n",
        "    'splitter': ['best', 'random'],\n",
        "    'max_depth': np.arange(1, 20),\n",
        "    'max_leaf_nodes': np.arange(15, 60),\n",
        "    'min_samples_split': [2, 5, 10, 15, 20, 25, 30, 40, 50],\n",
        "    'min_samples_leaf': [1, 2, 4, 8, 16],\n",
        "    'max_features': [None, 'sqrt', 'log2']\n",
        "}"
      ],
      "metadata": {
        "id": "_lCt2WXOLrQj"
      },
      "execution_count": 96,
      "outputs": []
    },
    {
      "cell_type": "code",
      "source": [
        "search = RandomizedSearchCV(\n",
        "    DecisionTreeClassifier(random_state=42),\n",
        "    params,\n",
        "    n_iter=40,\n",
        "    cv=cv_strategy,\n",
        "    scoring=\"roc_auc\",\n",
        "    random_state=42,\n",
        "    refit=True\n",
        ")"
      ],
      "metadata": {
        "id": "okbBZRtmL4ax"
      },
      "execution_count": 97,
      "outputs": []
    },
    {
      "cell_type": "code",
      "source": [
        "search.fit(train_X, train_y)"
      ],
      "metadata": {
        "colab": {
          "base_uri": "https://localhost:8080/",
          "height": 115
        },
        "id": "bceGSYk8L_oa",
        "outputId": "08af80b8-f439-4b05-cd86-95ce5517296d"
      },
      "execution_count": 98,
      "outputs": [
        {
          "output_type": "execute_result",
          "data": {
            "text/plain": [
              "RandomizedSearchCV(cv=StratifiedKFold(n_splits=3, random_state=42, shuffle=True),\n",
              "                   estimator=DecisionTreeClassifier(random_state=42), n_iter=40,\n",
              "                   param_distributions={'criterion': ['gini', 'entropy'],\n",
              "                                        'max_depth': array([ 1,  2,  3,  4,  5,  6,  7,  8,  9, 10, 11, 12, 13, 14, 15, 16, 17,\n",
              "       18, 19]),\n",
              "                                        'max_features': [None, 'sqrt', 'log2'],\n",
              "                                        'max_leaf_nodes': array([15, 16, 17, 18, 19, 20, 21, 22, 23, 24, 25, 26, 27, 28, 29, 30, 31,\n",
              "       32, 33, 34, 35, 36, 37, 38, 39, 40, 41, 42, 43, 44, 45, 46, 47, 48,\n",
              "       49, 50, 51, 52, 53, 54, 55, 56, 57, 58, 59]),\n",
              "                                        'min_samples_leaf': [1, 2, 4, 8, 16],\n",
              "                                        'min_samples_split': [2, 5, 10, 15, 20,\n",
              "                                                              25, 30, 40, 50],\n",
              "                                        'splitter': ['best', 'random']},\n",
              "                   random_state=42, scoring='roc_auc')"
            ],
            "text/html": [
              "<style>#sk-container-id-24 {color: black;background-color: white;}#sk-container-id-24 pre{padding: 0;}#sk-container-id-24 div.sk-toggleable {background-color: white;}#sk-container-id-24 label.sk-toggleable__label {cursor: pointer;display: block;width: 100%;margin-bottom: 0;padding: 0.3em;box-sizing: border-box;text-align: center;}#sk-container-id-24 label.sk-toggleable__label-arrow:before {content: \"▸\";float: left;margin-right: 0.25em;color: #696969;}#sk-container-id-24 label.sk-toggleable__label-arrow:hover:before {color: black;}#sk-container-id-24 div.sk-estimator:hover label.sk-toggleable__label-arrow:before {color: black;}#sk-container-id-24 div.sk-toggleable__content {max-height: 0;max-width: 0;overflow: hidden;text-align: left;background-color: #f0f8ff;}#sk-container-id-24 div.sk-toggleable__content pre {margin: 0.2em;color: black;border-radius: 0.25em;background-color: #f0f8ff;}#sk-container-id-24 input.sk-toggleable__control:checked~div.sk-toggleable__content {max-height: 200px;max-width: 100%;overflow: auto;}#sk-container-id-24 input.sk-toggleable__control:checked~label.sk-toggleable__label-arrow:before {content: \"▾\";}#sk-container-id-24 div.sk-estimator input.sk-toggleable__control:checked~label.sk-toggleable__label {background-color: #d4ebff;}#sk-container-id-24 div.sk-label input.sk-toggleable__control:checked~label.sk-toggleable__label {background-color: #d4ebff;}#sk-container-id-24 input.sk-hidden--visually {border: 0;clip: rect(1px 1px 1px 1px);clip: rect(1px, 1px, 1px, 1px);height: 1px;margin: -1px;overflow: hidden;padding: 0;position: absolute;width: 1px;}#sk-container-id-24 div.sk-estimator {font-family: monospace;background-color: #f0f8ff;border: 1px dotted black;border-radius: 0.25em;box-sizing: border-box;margin-bottom: 0.5em;}#sk-container-id-24 div.sk-estimator:hover {background-color: #d4ebff;}#sk-container-id-24 div.sk-parallel-item::after {content: \"\";width: 100%;border-bottom: 1px solid gray;flex-grow: 1;}#sk-container-id-24 div.sk-label:hover label.sk-toggleable__label {background-color: #d4ebff;}#sk-container-id-24 div.sk-serial::before {content: \"\";position: absolute;border-left: 1px solid gray;box-sizing: border-box;top: 0;bottom: 0;left: 50%;z-index: 0;}#sk-container-id-24 div.sk-serial {display: flex;flex-direction: column;align-items: center;background-color: white;padding-right: 0.2em;padding-left: 0.2em;position: relative;}#sk-container-id-24 div.sk-item {position: relative;z-index: 1;}#sk-container-id-24 div.sk-parallel {display: flex;align-items: stretch;justify-content: center;background-color: white;position: relative;}#sk-container-id-24 div.sk-item::before, #sk-container-id-24 div.sk-parallel-item::before {content: \"\";position: absolute;border-left: 1px solid gray;box-sizing: border-box;top: 0;bottom: 0;left: 50%;z-index: -1;}#sk-container-id-24 div.sk-parallel-item {display: flex;flex-direction: column;z-index: 1;position: relative;background-color: white;}#sk-container-id-24 div.sk-parallel-item:first-child::after {align-self: flex-end;width: 50%;}#sk-container-id-24 div.sk-parallel-item:last-child::after {align-self: flex-start;width: 50%;}#sk-container-id-24 div.sk-parallel-item:only-child::after {width: 0;}#sk-container-id-24 div.sk-dashed-wrapped {border: 1px dashed gray;margin: 0 0.4em 0.5em 0.4em;box-sizing: border-box;padding-bottom: 0.4em;background-color: white;}#sk-container-id-24 div.sk-label label {font-family: monospace;font-weight: bold;display: inline-block;line-height: 1.2em;}#sk-container-id-24 div.sk-label-container {text-align: center;}#sk-container-id-24 div.sk-container {/* jupyter's `normalize.less` sets `[hidden] { display: none; }` but bootstrap.min.css set `[hidden] { display: none !important; }` so we also need the `!important` here to be able to override the default hidden behavior on the sphinx rendered scikit-learn.org. See: https://github.com/scikit-learn/scikit-learn/issues/21755 */display: inline-block !important;position: relative;}#sk-container-id-24 div.sk-text-repr-fallback {display: none;}</style><div id=\"sk-container-id-24\" class=\"sk-top-container\"><div class=\"sk-text-repr-fallback\"><pre>RandomizedSearchCV(cv=StratifiedKFold(n_splits=3, random_state=42, shuffle=True),\n",
              "                   estimator=DecisionTreeClassifier(random_state=42), n_iter=40,\n",
              "                   param_distributions={&#x27;criterion&#x27;: [&#x27;gini&#x27;, &#x27;entropy&#x27;],\n",
              "                                        &#x27;max_depth&#x27;: array([ 1,  2,  3,  4,  5,  6,  7,  8,  9, 10, 11, 12, 13, 14, 15, 16, 17,\n",
              "       18, 19]),\n",
              "                                        &#x27;max_features&#x27;: [None, &#x27;sqrt&#x27;, &#x27;log2&#x27;],\n",
              "                                        &#x27;max_leaf_nodes&#x27;: array([15, 16, 17, 18, 19, 20, 21, 22, 23, 24, 25, 26, 27, 28, 29, 30, 31,\n",
              "       32, 33, 34, 35, 36, 37, 38, 39, 40, 41, 42, 43, 44, 45, 46, 47, 48,\n",
              "       49, 50, 51, 52, 53, 54, 55, 56, 57, 58, 59]),\n",
              "                                        &#x27;min_samples_leaf&#x27;: [1, 2, 4, 8, 16],\n",
              "                                        &#x27;min_samples_split&#x27;: [2, 5, 10, 15, 20,\n",
              "                                                              25, 30, 40, 50],\n",
              "                                        &#x27;splitter&#x27;: [&#x27;best&#x27;, &#x27;random&#x27;]},\n",
              "                   random_state=42, scoring=&#x27;roc_auc&#x27;)</pre><b>In a Jupyter environment, please rerun this cell to show the HTML representation or trust the notebook. <br />On GitHub, the HTML representation is unable to render, please try loading this page with nbviewer.org.</b></div><div class=\"sk-container\" hidden><div class=\"sk-item sk-dashed-wrapped\"><div class=\"sk-label-container\"><div class=\"sk-label sk-toggleable\"><input class=\"sk-toggleable__control sk-hidden--visually\" id=\"sk-estimator-id-48\" type=\"checkbox\" ><label for=\"sk-estimator-id-48\" class=\"sk-toggleable__label sk-toggleable__label-arrow\">RandomizedSearchCV</label><div class=\"sk-toggleable__content\"><pre>RandomizedSearchCV(cv=StratifiedKFold(n_splits=3, random_state=42, shuffle=True),\n",
              "                   estimator=DecisionTreeClassifier(random_state=42), n_iter=40,\n",
              "                   param_distributions={&#x27;criterion&#x27;: [&#x27;gini&#x27;, &#x27;entropy&#x27;],\n",
              "                                        &#x27;max_depth&#x27;: array([ 1,  2,  3,  4,  5,  6,  7,  8,  9, 10, 11, 12, 13, 14, 15, 16, 17,\n",
              "       18, 19]),\n",
              "                                        &#x27;max_features&#x27;: [None, &#x27;sqrt&#x27;, &#x27;log2&#x27;],\n",
              "                                        &#x27;max_leaf_nodes&#x27;: array([15, 16, 17, 18, 19, 20, 21, 22, 23, 24, 25, 26, 27, 28, 29, 30, 31,\n",
              "       32, 33, 34, 35, 36, 37, 38, 39, 40, 41, 42, 43, 44, 45, 46, 47, 48,\n",
              "       49, 50, 51, 52, 53, 54, 55, 56, 57, 58, 59]),\n",
              "                                        &#x27;min_samples_leaf&#x27;: [1, 2, 4, 8, 16],\n",
              "                                        &#x27;min_samples_split&#x27;: [2, 5, 10, 15, 20,\n",
              "                                                              25, 30, 40, 50],\n",
              "                                        &#x27;splitter&#x27;: [&#x27;best&#x27;, &#x27;random&#x27;]},\n",
              "                   random_state=42, scoring=&#x27;roc_auc&#x27;)</pre></div></div></div><div class=\"sk-parallel\"><div class=\"sk-parallel-item\"><div class=\"sk-item\"><div class=\"sk-label-container\"><div class=\"sk-label sk-toggleable\"><input class=\"sk-toggleable__control sk-hidden--visually\" id=\"sk-estimator-id-49\" type=\"checkbox\" ><label for=\"sk-estimator-id-49\" class=\"sk-toggleable__label sk-toggleable__label-arrow\">estimator: DecisionTreeClassifier</label><div class=\"sk-toggleable__content\"><pre>DecisionTreeClassifier(random_state=42)</pre></div></div></div><div class=\"sk-serial\"><div class=\"sk-item\"><div class=\"sk-estimator sk-toggleable\"><input class=\"sk-toggleable__control sk-hidden--visually\" id=\"sk-estimator-id-50\" type=\"checkbox\" ><label for=\"sk-estimator-id-50\" class=\"sk-toggleable__label sk-toggleable__label-arrow\">DecisionTreeClassifier</label><div class=\"sk-toggleable__content\"><pre>DecisionTreeClassifier(random_state=42)</pre></div></div></div></div></div></div></div></div></div></div>"
            ]
          },
          "metadata": {},
          "execution_count": 98
        }
      ]
    },
    {
      "cell_type": "code",
      "source": [
        "search.best_params_, search.best_score_"
      ],
      "metadata": {
        "colab": {
          "base_uri": "https://localhost:8080/"
        },
        "id": "OsZSPhsFMC9n",
        "outputId": "685f7193-c93f-4344-e19c-94b0b131cc07"
      },
      "execution_count": 99,
      "outputs": [
        {
          "output_type": "execute_result",
          "data": {
            "text/plain": [
              "({'splitter': 'best',\n",
              "  'min_samples_split': 15,\n",
              "  'min_samples_leaf': 16,\n",
              "  'max_leaf_nodes': 29,\n",
              "  'max_features': None,\n",
              "  'max_depth': 12,\n",
              "  'criterion': 'entropy'},\n",
              " 0.9183312099978767)"
            ]
          },
          "metadata": {},
          "execution_count": 99
        }
      ]
    },
    {
      "cell_type": "code",
      "source": [
        "model = search.best_estimator_\n",
        "model.fit(train_X, train_y)"
      ],
      "metadata": {
        "colab": {
          "base_uri": "https://localhost:8080/",
          "height": 109
        },
        "id": "G1jKiPOJMG-E",
        "outputId": "8f630ee5-34fd-406f-e03d-a746593f6908"
      },
      "execution_count": 100,
      "outputs": [
        {
          "output_type": "execute_result",
          "data": {
            "text/plain": [
              "DecisionTreeClassifier(criterion='entropy', max_depth=12, max_leaf_nodes=29,\n",
              "                       min_samples_leaf=16, min_samples_split=15,\n",
              "                       random_state=42)"
            ],
            "text/html": [
              "<style>#sk-container-id-25 {color: black;background-color: white;}#sk-container-id-25 pre{padding: 0;}#sk-container-id-25 div.sk-toggleable {background-color: white;}#sk-container-id-25 label.sk-toggleable__label {cursor: pointer;display: block;width: 100%;margin-bottom: 0;padding: 0.3em;box-sizing: border-box;text-align: center;}#sk-container-id-25 label.sk-toggleable__label-arrow:before {content: \"▸\";float: left;margin-right: 0.25em;color: #696969;}#sk-container-id-25 label.sk-toggleable__label-arrow:hover:before {color: black;}#sk-container-id-25 div.sk-estimator:hover label.sk-toggleable__label-arrow:before {color: black;}#sk-container-id-25 div.sk-toggleable__content {max-height: 0;max-width: 0;overflow: hidden;text-align: left;background-color: #f0f8ff;}#sk-container-id-25 div.sk-toggleable__content pre {margin: 0.2em;color: black;border-radius: 0.25em;background-color: #f0f8ff;}#sk-container-id-25 input.sk-toggleable__control:checked~div.sk-toggleable__content {max-height: 200px;max-width: 100%;overflow: auto;}#sk-container-id-25 input.sk-toggleable__control:checked~label.sk-toggleable__label-arrow:before {content: \"▾\";}#sk-container-id-25 div.sk-estimator input.sk-toggleable__control:checked~label.sk-toggleable__label {background-color: #d4ebff;}#sk-container-id-25 div.sk-label input.sk-toggleable__control:checked~label.sk-toggleable__label {background-color: #d4ebff;}#sk-container-id-25 input.sk-hidden--visually {border: 0;clip: rect(1px 1px 1px 1px);clip: rect(1px, 1px, 1px, 1px);height: 1px;margin: -1px;overflow: hidden;padding: 0;position: absolute;width: 1px;}#sk-container-id-25 div.sk-estimator {font-family: monospace;background-color: #f0f8ff;border: 1px dotted black;border-radius: 0.25em;box-sizing: border-box;margin-bottom: 0.5em;}#sk-container-id-25 div.sk-estimator:hover {background-color: #d4ebff;}#sk-container-id-25 div.sk-parallel-item::after {content: \"\";width: 100%;border-bottom: 1px solid gray;flex-grow: 1;}#sk-container-id-25 div.sk-label:hover label.sk-toggleable__label {background-color: #d4ebff;}#sk-container-id-25 div.sk-serial::before {content: \"\";position: absolute;border-left: 1px solid gray;box-sizing: border-box;top: 0;bottom: 0;left: 50%;z-index: 0;}#sk-container-id-25 div.sk-serial {display: flex;flex-direction: column;align-items: center;background-color: white;padding-right: 0.2em;padding-left: 0.2em;position: relative;}#sk-container-id-25 div.sk-item {position: relative;z-index: 1;}#sk-container-id-25 div.sk-parallel {display: flex;align-items: stretch;justify-content: center;background-color: white;position: relative;}#sk-container-id-25 div.sk-item::before, #sk-container-id-25 div.sk-parallel-item::before {content: \"\";position: absolute;border-left: 1px solid gray;box-sizing: border-box;top: 0;bottom: 0;left: 50%;z-index: -1;}#sk-container-id-25 div.sk-parallel-item {display: flex;flex-direction: column;z-index: 1;position: relative;background-color: white;}#sk-container-id-25 div.sk-parallel-item:first-child::after {align-self: flex-end;width: 50%;}#sk-container-id-25 div.sk-parallel-item:last-child::after {align-self: flex-start;width: 50%;}#sk-container-id-25 div.sk-parallel-item:only-child::after {width: 0;}#sk-container-id-25 div.sk-dashed-wrapped {border: 1px dashed gray;margin: 0 0.4em 0.5em 0.4em;box-sizing: border-box;padding-bottom: 0.4em;background-color: white;}#sk-container-id-25 div.sk-label label {font-family: monospace;font-weight: bold;display: inline-block;line-height: 1.2em;}#sk-container-id-25 div.sk-label-container {text-align: center;}#sk-container-id-25 div.sk-container {/* jupyter's `normalize.less` sets `[hidden] { display: none; }` but bootstrap.min.css set `[hidden] { display: none !important; }` so we also need the `!important` here to be able to override the default hidden behavior on the sphinx rendered scikit-learn.org. See: https://github.com/scikit-learn/scikit-learn/issues/21755 */display: inline-block !important;position: relative;}#sk-container-id-25 div.sk-text-repr-fallback {display: none;}</style><div id=\"sk-container-id-25\" class=\"sk-top-container\"><div class=\"sk-text-repr-fallback\"><pre>DecisionTreeClassifier(criterion=&#x27;entropy&#x27;, max_depth=12, max_leaf_nodes=29,\n",
              "                       min_samples_leaf=16, min_samples_split=15,\n",
              "                       random_state=42)</pre><b>In a Jupyter environment, please rerun this cell to show the HTML representation or trust the notebook. <br />On GitHub, the HTML representation is unable to render, please try loading this page with nbviewer.org.</b></div><div class=\"sk-container\" hidden><div class=\"sk-item\"><div class=\"sk-estimator sk-toggleable\"><input class=\"sk-toggleable__control sk-hidden--visually\" id=\"sk-estimator-id-51\" type=\"checkbox\" checked><label for=\"sk-estimator-id-51\" class=\"sk-toggleable__label sk-toggleable__label-arrow\">DecisionTreeClassifier</label><div class=\"sk-toggleable__content\"><pre>DecisionTreeClassifier(criterion=&#x27;entropy&#x27;, max_depth=12, max_leaf_nodes=29,\n",
              "                       min_samples_leaf=16, min_samples_split=15,\n",
              "                       random_state=42)</pre></div></div></div></div></div>"
            ]
          },
          "metadata": {},
          "execution_count": 100
        }
      ]
    },
    {
      "cell_type": "code",
      "source": [
        "print('Train AUROC', compute_auroc(model, train_X, train_y))\n",
        "print('Validation AUROC', compute_auroc(model, val_X, val_y))"
      ],
      "metadata": {
        "colab": {
          "base_uri": "https://localhost:8080/"
        },
        "id": "sNKZFnLUMMBE",
        "outputId": "ee2f6acf-d2eb-48fa-f2e1-82fdda0bfb38"
      },
      "execution_count": 101,
      "outputs": [
        {
          "output_type": "stream",
          "name": "stdout",
          "text": [
            "Train AUROC 0.9292648880690313\n",
            "Validation AUROC 0.9244708141847863\n"
          ]
        }
      ]
    },
    {
      "cell_type": "code",
      "source": [
        "test_raw_df = pd.read_csv(test_csv)\n",
        "test_X = preprocess_new_data(test_raw_df, input_cols, scaler, encoder)\n",
        "probas = model.predict_proba(test_X)"
      ],
      "metadata": {
        "id": "bCw1nwBsLAZW"
      },
      "execution_count": 102,
      "outputs": []
    },
    {
      "cell_type": "code",
      "source": [
        "from google.colab import drive\n",
        "drive.mount('/content/drive')\n",
        "dir = '/content/drive/MyDrive/Machine Learning/Data/'\n",
        "os.chdir(dir)"
      ],
      "metadata": {
        "colab": {
          "base_uri": "https://localhost:8080/"
        },
        "id": "NX2uw4czLDXo",
        "outputId": "afffa684-77c4-42c2-ee84-8dbcb2eff490"
      },
      "execution_count": 57,
      "outputs": [
        {
          "output_type": "stream",
          "name": "stdout",
          "text": [
            "Mounted at /content/drive\n"
          ]
        }
      ]
    },
    {
      "cell_type": "code",
      "source": [
        "submission = pd.read_csv(sample_submission_csv)\n",
        "submission.Exited = probas[:,1]\n",
        "submission.head()\n",
        "submission.to_csv('submission_dt_random_search.csv', index=False)"
      ],
      "metadata": {
        "id": "h327-degLSYw"
      },
      "execution_count": 83,
      "outputs": []
    },
    {
      "cell_type": "markdown",
      "source": [
        "![Screenshot 2024-07-15 at 2.44.06 PM.png](data:image/png;base64,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)"
      ],
      "metadata": {
        "id": "inRmTgj4NTHS"
      }
    }
  ]
}